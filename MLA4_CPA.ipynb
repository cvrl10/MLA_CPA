{
  "nbformat": 4,
  "nbformat_minor": 0,
  "metadata": {
    "colab": {
      "name": "MLA4_CPA.ipynb",
      "provenance": [],
      "collapsed_sections": [],
      "authorship_tag": "ABX9TyOxGZSNH9gcDg7WA12+KC2n",
      "include_colab_link": true
    },
    "kernelspec": {
      "name": "python3",
      "display_name": "Python 3"
    },
    "language_info": {
      "name": "python"
    }
  },
  "cells": [
    {
      "cell_type": "markdown",
      "metadata": {
        "id": "view-in-github",
        "colab_type": "text"
      },
      "source": [
        "<a href=\"https://colab.research.google.com/github/cvrl10/MLA_CPA/blob/main/MLA4_CPA.ipynb\" target=\"_parent\"><img src=\"https://colab.research.google.com/assets/colab-badge.svg\" alt=\"Open In Colab\"/></a>"
      ]
    },
    {
      "cell_type": "markdown",
      "source": [
        "**Machine Learning Assignment 4**</br>\n",
        "**CS430-ON**</br>\n",
        "**MachineLearning in the Cloud**"
      ],
      "metadata": {
        "id": "VwhUbqSQUWf7"
      }
    },
    {
      "cell_type": "code",
      "execution_count": 33,
      "metadata": {
        "id": "LuceRc0sUCOI"
      },
      "outputs": [],
      "source": [
        "import pandas as pd\n",
        "import numpy as np\n",
        "import matplotlib.pyplot as plt\n",
        "import seaborn as sns\n",
        "%matplotlib inline"
      ]
    },
    {
      "cell_type": "code",
      "source": [
        "from google.colab import drive\n",
        "drive.mount('/content/gdrive')"
      ],
      "metadata": {
        "colab": {
          "base_uri": "https://localhost:8080/"
        },
        "id": "uE6J6-8CU9Rj",
        "outputId": "92d6f935-ad11-4e77-8f24-bf4b93d845f5"
      },
      "execution_count": 34,
      "outputs": [
        {
          "output_type": "stream",
          "name": "stdout",
          "text": [
            "Drive already mounted at /content/gdrive; to attempt to forcibly remount, call drive.mount(\"/content/gdrive\", force_remount=True).\n"
          ]
        }
      ]
    },
    {
      "cell_type": "markdown",
      "source": [
        "##Imports for specific models"
      ],
      "metadata": {
        "id": "Cb5NXVXWVK70"
      }
    },
    {
      "cell_type": "code",
      "source": [
        "from sklearn import tree"
      ],
      "metadata": {
        "id": "e18qcygBVRIA"
      },
      "execution_count": 35,
      "outputs": []
    },
    {
      "cell_type": "markdown",
      "source": [
        "##SVC Classification - Acquire Data"
      ],
      "metadata": {
        "id": "Dz1vKpzgVc_9"
      }
    },
    {
      "cell_type": "code",
      "source": [
        "df = pd.read_csv('/content/gdrive/MyDrive/CS430/Module4/banknote_authentication.csv')"
      ],
      "metadata": {
        "id": "vGgYCicxWHAl"
      },
      "execution_count": 36,
      "outputs": []
    },
    {
      "cell_type": "markdown",
      "source": [
        "##Statistics and Visual Exploration"
      ],
      "metadata": {
        "id": "wG4JrzKsXRgA"
      }
    },
    {
      "cell_type": "code",
      "source": [
        "df.head()\n",
        "df"
      ],
      "metadata": {
        "colab": {
          "base_uri": "https://localhost:8080/",
          "height": 424
        },
        "id": "Y4yxwpFjXTvc",
        "outputId": "b08bcfe4-a28b-4cc4-eac6-94da8b5f691e"
      },
      "execution_count": 37,
      "outputs": [
        {
          "output_type": "execute_result",
          "data": {
            "text/plain": [
              "      variance  skewness  curtosis  entropy  forgery\n",
              "0      3.62160   8.66610   -2.8073 -0.44699        0\n",
              "1      4.54590   8.16740   -2.4586 -1.46210        0\n",
              "2      3.86600  -2.63830    1.9242  0.10645        0\n",
              "3      3.45660   9.52280   -4.0112 -3.59440        0\n",
              "4      0.32924  -4.45520    4.5718 -0.98880        0\n",
              "...        ...       ...       ...      ...      ...\n",
              "1367   0.40614   1.34920   -1.4501 -0.55949        1\n",
              "1368  -1.38870  -4.87730    6.4774  0.34179        1\n",
              "1369  -3.75030 -13.45860   17.5932 -2.77710        1\n",
              "1370  -3.56370  -8.38270   12.3930 -1.28230        1\n",
              "1371  -2.54190  -0.65804    2.6842  1.19520        1\n",
              "\n",
              "[1372 rows x 5 columns]"
            ],
            "text/html": [
              "\n",
              "  <div id=\"df-89198048-86d4-4bab-b23e-6b9043a2c795\">\n",
              "    <div class=\"colab-df-container\">\n",
              "      <div>\n",
              "<style scoped>\n",
              "    .dataframe tbody tr th:only-of-type {\n",
              "        vertical-align: middle;\n",
              "    }\n",
              "\n",
              "    .dataframe tbody tr th {\n",
              "        vertical-align: top;\n",
              "    }\n",
              "\n",
              "    .dataframe thead th {\n",
              "        text-align: right;\n",
              "    }\n",
              "</style>\n",
              "<table border=\"1\" class=\"dataframe\">\n",
              "  <thead>\n",
              "    <tr style=\"text-align: right;\">\n",
              "      <th></th>\n",
              "      <th>variance</th>\n",
              "      <th>skewness</th>\n",
              "      <th>curtosis</th>\n",
              "      <th>entropy</th>\n",
              "      <th>forgery</th>\n",
              "    </tr>\n",
              "  </thead>\n",
              "  <tbody>\n",
              "    <tr>\n",
              "      <th>0</th>\n",
              "      <td>3.62160</td>\n",
              "      <td>8.66610</td>\n",
              "      <td>-2.8073</td>\n",
              "      <td>-0.44699</td>\n",
              "      <td>0</td>\n",
              "    </tr>\n",
              "    <tr>\n",
              "      <th>1</th>\n",
              "      <td>4.54590</td>\n",
              "      <td>8.16740</td>\n",
              "      <td>-2.4586</td>\n",
              "      <td>-1.46210</td>\n",
              "      <td>0</td>\n",
              "    </tr>\n",
              "    <tr>\n",
              "      <th>2</th>\n",
              "      <td>3.86600</td>\n",
              "      <td>-2.63830</td>\n",
              "      <td>1.9242</td>\n",
              "      <td>0.10645</td>\n",
              "      <td>0</td>\n",
              "    </tr>\n",
              "    <tr>\n",
              "      <th>3</th>\n",
              "      <td>3.45660</td>\n",
              "      <td>9.52280</td>\n",
              "      <td>-4.0112</td>\n",
              "      <td>-3.59440</td>\n",
              "      <td>0</td>\n",
              "    </tr>\n",
              "    <tr>\n",
              "      <th>4</th>\n",
              "      <td>0.32924</td>\n",
              "      <td>-4.45520</td>\n",
              "      <td>4.5718</td>\n",
              "      <td>-0.98880</td>\n",
              "      <td>0</td>\n",
              "    </tr>\n",
              "    <tr>\n",
              "      <th>...</th>\n",
              "      <td>...</td>\n",
              "      <td>...</td>\n",
              "      <td>...</td>\n",
              "      <td>...</td>\n",
              "      <td>...</td>\n",
              "    </tr>\n",
              "    <tr>\n",
              "      <th>1367</th>\n",
              "      <td>0.40614</td>\n",
              "      <td>1.34920</td>\n",
              "      <td>-1.4501</td>\n",
              "      <td>-0.55949</td>\n",
              "      <td>1</td>\n",
              "    </tr>\n",
              "    <tr>\n",
              "      <th>1368</th>\n",
              "      <td>-1.38870</td>\n",
              "      <td>-4.87730</td>\n",
              "      <td>6.4774</td>\n",
              "      <td>0.34179</td>\n",
              "      <td>1</td>\n",
              "    </tr>\n",
              "    <tr>\n",
              "      <th>1369</th>\n",
              "      <td>-3.75030</td>\n",
              "      <td>-13.45860</td>\n",
              "      <td>17.5932</td>\n",
              "      <td>-2.77710</td>\n",
              "      <td>1</td>\n",
              "    </tr>\n",
              "    <tr>\n",
              "      <th>1370</th>\n",
              "      <td>-3.56370</td>\n",
              "      <td>-8.38270</td>\n",
              "      <td>12.3930</td>\n",
              "      <td>-1.28230</td>\n",
              "      <td>1</td>\n",
              "    </tr>\n",
              "    <tr>\n",
              "      <th>1371</th>\n",
              "      <td>-2.54190</td>\n",
              "      <td>-0.65804</td>\n",
              "      <td>2.6842</td>\n",
              "      <td>1.19520</td>\n",
              "      <td>1</td>\n",
              "    </tr>\n",
              "  </tbody>\n",
              "</table>\n",
              "<p>1372 rows × 5 columns</p>\n",
              "</div>\n",
              "      <button class=\"colab-df-convert\" onclick=\"convertToInteractive('df-89198048-86d4-4bab-b23e-6b9043a2c795')\"\n",
              "              title=\"Convert this dataframe to an interactive table.\"\n",
              "              style=\"display:none;\">\n",
              "        \n",
              "  <svg xmlns=\"http://www.w3.org/2000/svg\" height=\"24px\"viewBox=\"0 0 24 24\"\n",
              "       width=\"24px\">\n",
              "    <path d=\"M0 0h24v24H0V0z\" fill=\"none\"/>\n",
              "    <path d=\"M18.56 5.44l.94 2.06.94-2.06 2.06-.94-2.06-.94-.94-2.06-.94 2.06-2.06.94zm-11 1L8.5 8.5l.94-2.06 2.06-.94-2.06-.94L8.5 2.5l-.94 2.06-2.06.94zm10 10l.94 2.06.94-2.06 2.06-.94-2.06-.94-.94-2.06-.94 2.06-2.06.94z\"/><path d=\"M17.41 7.96l-1.37-1.37c-.4-.4-.92-.59-1.43-.59-.52 0-1.04.2-1.43.59L10.3 9.45l-7.72 7.72c-.78.78-.78 2.05 0 2.83L4 21.41c.39.39.9.59 1.41.59.51 0 1.02-.2 1.41-.59l7.78-7.78 2.81-2.81c.8-.78.8-2.07 0-2.86zM5.41 20L4 18.59l7.72-7.72 1.47 1.35L5.41 20z\"/>\n",
              "  </svg>\n",
              "      </button>\n",
              "      \n",
              "  <style>\n",
              "    .colab-df-container {\n",
              "      display:flex;\n",
              "      flex-wrap:wrap;\n",
              "      gap: 12px;\n",
              "    }\n",
              "\n",
              "    .colab-df-convert {\n",
              "      background-color: #E8F0FE;\n",
              "      border: none;\n",
              "      border-radius: 50%;\n",
              "      cursor: pointer;\n",
              "      display: none;\n",
              "      fill: #1967D2;\n",
              "      height: 32px;\n",
              "      padding: 0 0 0 0;\n",
              "      width: 32px;\n",
              "    }\n",
              "\n",
              "    .colab-df-convert:hover {\n",
              "      background-color: #E2EBFA;\n",
              "      box-shadow: 0px 1px 2px rgba(60, 64, 67, 0.3), 0px 1px 3px 1px rgba(60, 64, 67, 0.15);\n",
              "      fill: #174EA6;\n",
              "    }\n",
              "\n",
              "    [theme=dark] .colab-df-convert {\n",
              "      background-color: #3B4455;\n",
              "      fill: #D2E3FC;\n",
              "    }\n",
              "\n",
              "    [theme=dark] .colab-df-convert:hover {\n",
              "      background-color: #434B5C;\n",
              "      box-shadow: 0px 1px 3px 1px rgba(0, 0, 0, 0.15);\n",
              "      filter: drop-shadow(0px 1px 2px rgba(0, 0, 0, 0.3));\n",
              "      fill: #FFFFFF;\n",
              "    }\n",
              "  </style>\n",
              "\n",
              "      <script>\n",
              "        const buttonEl =\n",
              "          document.querySelector('#df-89198048-86d4-4bab-b23e-6b9043a2c795 button.colab-df-convert');\n",
              "        buttonEl.style.display =\n",
              "          google.colab.kernel.accessAllowed ? 'block' : 'none';\n",
              "\n",
              "        async function convertToInteractive(key) {\n",
              "          const element = document.querySelector('#df-89198048-86d4-4bab-b23e-6b9043a2c795');\n",
              "          const dataTable =\n",
              "            await google.colab.kernel.invokeFunction('convertToInteractive',\n",
              "                                                     [key], {});\n",
              "          if (!dataTable) return;\n",
              "\n",
              "          const docLinkHtml = 'Like what you see? Visit the ' +\n",
              "            '<a target=\"_blank\" href=https://colab.research.google.com/notebooks/data_table.ipynb>data table notebook</a>'\n",
              "            + ' to learn more about interactive tables.';\n",
              "          element.innerHTML = '';\n",
              "          dataTable['output_type'] = 'display_data';\n",
              "          await google.colab.output.renderOutput(dataTable, element);\n",
              "          const docLink = document.createElement('div');\n",
              "          docLink.innerHTML = docLinkHtml;\n",
              "          element.appendChild(docLink);\n",
              "        }\n",
              "      </script>\n",
              "    </div>\n",
              "  </div>\n",
              "  "
            ]
          },
          "metadata": {},
          "execution_count": 37
        }
      ]
    },
    {
      "cell_type": "markdown",
      "source": [
        "##Splitting Data into Train/Test"
      ],
      "metadata": {
        "id": "apIcl-yzVffm"
      }
    },
    {
      "cell_type": "code",
      "source": [
        "from sklearn.model_selection import train_test_split"
      ],
      "metadata": {
        "id": "z7F084ziXCV_"
      },
      "execution_count": 38,
      "outputs": []
    },
    {
      "cell_type": "code",
      "source": [
        "X = df.iloc[:, 0:-1]\n",
        "y = df['forgery']"
      ],
      "metadata": {
        "id": "hrmxozRVXd2z"
      },
      "execution_count": 39,
      "outputs": []
    },
    {
      "cell_type": "code",
      "source": [
        "X_train, X_test, y_train, y_test = train_test_split(X, y, test_size=.2, random_state=32)"
      ],
      "metadata": {
        "id": "PX4jJnDlYKkI"
      },
      "execution_count": 40,
      "outputs": []
    },
    {
      "cell_type": "markdown",
      "source": [
        "##Building the Pipeline"
      ],
      "metadata": {
        "id": "4FnyBuS5YV9o"
      }
    },
    {
      "cell_type": "code",
      "source": [
        "from sklearn.pipeline import Pipeline\n",
        "from sklearn import set_config\n",
        "set_config(display='diagram')\n",
        "\n",
        "from sklearn.compose import ColumnTransformer\n",
        "from sklearn.preprocessing import MinMaxScaler\n",
        "from sklearn.preprocessing import OneHotEncoder"
      ],
      "metadata": {
        "id": "ambQWeUqYYua"
      },
      "execution_count": 41,
      "outputs": []
    },
    {
      "cell_type": "code",
      "source": [
        "num_attribs = list(X.columns)"
      ],
      "metadata": {
        "id": "RPulOw_0YdrV"
      },
      "execution_count": 42,
      "outputs": []
    },
    {
      "cell_type": "code",
      "source": [
        "col_transform = ColumnTransformer(transformers=[\n",
        "                                              ('num', MinMaxScaler(), num_attribs)\n",
        "                                  ])"
      ],
      "metadata": {
        "id": "ViX85L6QY7Md"
      },
      "execution_count": 43,
      "outputs": []
    },
    {
      "cell_type": "code",
      "source": [
        "pipeline = Pipeline([\n",
        "                     ('transform', col_transform),\n",
        "                     ('decision_tree', tree.DecisionTreeClassifier(max_depth=5))\n",
        "])"
      ],
      "metadata": {
        "id": "_ffgG0-nZ0O4"
      },
      "execution_count": 44,
      "outputs": []
    },
    {
      "cell_type": "markdown",
      "source": [
        "##Executing the Model"
      ],
      "metadata": {
        "id": "4q6CyHNPacPk"
      }
    },
    {
      "cell_type": "code",
      "source": [
        "pipeline.fit(X_train, y_train)"
      ],
      "metadata": {
        "colab": {
          "base_uri": "https://localhost:8080/",
          "height": 192
        },
        "id": "A4arhMFKafMQ",
        "outputId": "e7a13dfc-061d-4781-98ed-990886f400c4"
      },
      "execution_count": 45,
      "outputs": [
        {
          "output_type": "execute_result",
          "data": {
            "text/plain": [
              "Pipeline(steps=[('transform',\n",
              "                 ColumnTransformer(transformers=[('num', MinMaxScaler(),\n",
              "                                                  ['variance', 'skewness',\n",
              "                                                   'curtosis', 'entropy'])])),\n",
              "                ('decision_tree', DecisionTreeClassifier(max_depth=5))])"
            ],
            "text/html": [
              "<style>#sk-36a9dccd-dbf4-474b-9fb8-27a038b006d3 {color: black;background-color: white;}#sk-36a9dccd-dbf4-474b-9fb8-27a038b006d3 pre{padding: 0;}#sk-36a9dccd-dbf4-474b-9fb8-27a038b006d3 div.sk-toggleable {background-color: white;}#sk-36a9dccd-dbf4-474b-9fb8-27a038b006d3 label.sk-toggleable__label {cursor: pointer;display: block;width: 100%;margin-bottom: 0;padding: 0.3em;box-sizing: border-box;text-align: center;}#sk-36a9dccd-dbf4-474b-9fb8-27a038b006d3 label.sk-toggleable__label-arrow:before {content: \"▸\";float: left;margin-right: 0.25em;color: #696969;}#sk-36a9dccd-dbf4-474b-9fb8-27a038b006d3 label.sk-toggleable__label-arrow:hover:before {color: black;}#sk-36a9dccd-dbf4-474b-9fb8-27a038b006d3 div.sk-estimator:hover label.sk-toggleable__label-arrow:before {color: black;}#sk-36a9dccd-dbf4-474b-9fb8-27a038b006d3 div.sk-toggleable__content {max-height: 0;max-width: 0;overflow: hidden;text-align: left;background-color: #f0f8ff;}#sk-36a9dccd-dbf4-474b-9fb8-27a038b006d3 div.sk-toggleable__content pre {margin: 0.2em;color: black;border-radius: 0.25em;background-color: #f0f8ff;}#sk-36a9dccd-dbf4-474b-9fb8-27a038b006d3 input.sk-toggleable__control:checked~div.sk-toggleable__content {max-height: 200px;max-width: 100%;overflow: auto;}#sk-36a9dccd-dbf4-474b-9fb8-27a038b006d3 input.sk-toggleable__control:checked~label.sk-toggleable__label-arrow:before {content: \"▾\";}#sk-36a9dccd-dbf4-474b-9fb8-27a038b006d3 div.sk-estimator input.sk-toggleable__control:checked~label.sk-toggleable__label {background-color: #d4ebff;}#sk-36a9dccd-dbf4-474b-9fb8-27a038b006d3 div.sk-label input.sk-toggleable__control:checked~label.sk-toggleable__label {background-color: #d4ebff;}#sk-36a9dccd-dbf4-474b-9fb8-27a038b006d3 input.sk-hidden--visually {border: 0;clip: rect(1px 1px 1px 1px);clip: rect(1px, 1px, 1px, 1px);height: 1px;margin: -1px;overflow: hidden;padding: 0;position: absolute;width: 1px;}#sk-36a9dccd-dbf4-474b-9fb8-27a038b006d3 div.sk-estimator {font-family: monospace;background-color: #f0f8ff;border: 1px dotted black;border-radius: 0.25em;box-sizing: border-box;margin-bottom: 0.5em;}#sk-36a9dccd-dbf4-474b-9fb8-27a038b006d3 div.sk-estimator:hover {background-color: #d4ebff;}#sk-36a9dccd-dbf4-474b-9fb8-27a038b006d3 div.sk-parallel-item::after {content: \"\";width: 100%;border-bottom: 1px solid gray;flex-grow: 1;}#sk-36a9dccd-dbf4-474b-9fb8-27a038b006d3 div.sk-label:hover label.sk-toggleable__label {background-color: #d4ebff;}#sk-36a9dccd-dbf4-474b-9fb8-27a038b006d3 div.sk-serial::before {content: \"\";position: absolute;border-left: 1px solid gray;box-sizing: border-box;top: 2em;bottom: 0;left: 50%;}#sk-36a9dccd-dbf4-474b-9fb8-27a038b006d3 div.sk-serial {display: flex;flex-direction: column;align-items: center;background-color: white;padding-right: 0.2em;padding-left: 0.2em;}#sk-36a9dccd-dbf4-474b-9fb8-27a038b006d3 div.sk-item {z-index: 1;}#sk-36a9dccd-dbf4-474b-9fb8-27a038b006d3 div.sk-parallel {display: flex;align-items: stretch;justify-content: center;background-color: white;}#sk-36a9dccd-dbf4-474b-9fb8-27a038b006d3 div.sk-parallel::before {content: \"\";position: absolute;border-left: 1px solid gray;box-sizing: border-box;top: 2em;bottom: 0;left: 50%;}#sk-36a9dccd-dbf4-474b-9fb8-27a038b006d3 div.sk-parallel-item {display: flex;flex-direction: column;position: relative;background-color: white;}#sk-36a9dccd-dbf4-474b-9fb8-27a038b006d3 div.sk-parallel-item:first-child::after {align-self: flex-end;width: 50%;}#sk-36a9dccd-dbf4-474b-9fb8-27a038b006d3 div.sk-parallel-item:last-child::after {align-self: flex-start;width: 50%;}#sk-36a9dccd-dbf4-474b-9fb8-27a038b006d3 div.sk-parallel-item:only-child::after {width: 0;}#sk-36a9dccd-dbf4-474b-9fb8-27a038b006d3 div.sk-dashed-wrapped {border: 1px dashed gray;margin: 0 0.4em 0.5em 0.4em;box-sizing: border-box;padding-bottom: 0.4em;background-color: white;position: relative;}#sk-36a9dccd-dbf4-474b-9fb8-27a038b006d3 div.sk-label label {font-family: monospace;font-weight: bold;background-color: white;display: inline-block;line-height: 1.2em;}#sk-36a9dccd-dbf4-474b-9fb8-27a038b006d3 div.sk-label-container {position: relative;z-index: 2;text-align: center;}#sk-36a9dccd-dbf4-474b-9fb8-27a038b006d3 div.sk-container {/* jupyter's `normalize.less` sets `[hidden] { display: none; }` but bootstrap.min.css set `[hidden] { display: none !important; }` so we also need the `!important` here to be able to override the default hidden behavior on the sphinx rendered scikit-learn.org. See: https://github.com/scikit-learn/scikit-learn/issues/21755 */display: inline-block !important;position: relative;}#sk-36a9dccd-dbf4-474b-9fb8-27a038b006d3 div.sk-text-repr-fallback {display: none;}</style><div id=\"sk-36a9dccd-dbf4-474b-9fb8-27a038b006d3\" class=\"sk-top-container\"><div class=\"sk-text-repr-fallback\"><pre>Pipeline(steps=[(&#x27;transform&#x27;,\n",
              "                 ColumnTransformer(transformers=[(&#x27;num&#x27;, MinMaxScaler(),\n",
              "                                                  [&#x27;variance&#x27;, &#x27;skewness&#x27;,\n",
              "                                                   &#x27;curtosis&#x27;, &#x27;entropy&#x27;])])),\n",
              "                (&#x27;decision_tree&#x27;, DecisionTreeClassifier(max_depth=5))])</pre><b>Please rerun this cell to show the HTML repr or trust the notebook.</b></div><div class=\"sk-container\" hidden><div class=\"sk-item sk-dashed-wrapped\"><div class=\"sk-label-container\"><div class=\"sk-label sk-toggleable\"><input class=\"sk-toggleable__control sk-hidden--visually\" id=\"5e5b9672-719a-4950-9f2a-b1ae1ec73478\" type=\"checkbox\" ><label for=\"5e5b9672-719a-4950-9f2a-b1ae1ec73478\" class=\"sk-toggleable__label sk-toggleable__label-arrow\">Pipeline</label><div class=\"sk-toggleable__content\"><pre>Pipeline(steps=[(&#x27;transform&#x27;,\n",
              "                 ColumnTransformer(transformers=[(&#x27;num&#x27;, MinMaxScaler(),\n",
              "                                                  [&#x27;variance&#x27;, &#x27;skewness&#x27;,\n",
              "                                                   &#x27;curtosis&#x27;, &#x27;entropy&#x27;])])),\n",
              "                (&#x27;decision_tree&#x27;, DecisionTreeClassifier(max_depth=5))])</pre></div></div></div><div class=\"sk-serial\"><div class=\"sk-item sk-dashed-wrapped\"><div class=\"sk-label-container\"><div class=\"sk-label sk-toggleable\"><input class=\"sk-toggleable__control sk-hidden--visually\" id=\"0d2f6235-f4a0-486a-aa72-02f75d1a023a\" type=\"checkbox\" ><label for=\"0d2f6235-f4a0-486a-aa72-02f75d1a023a\" class=\"sk-toggleable__label sk-toggleable__label-arrow\">transform: ColumnTransformer</label><div class=\"sk-toggleable__content\"><pre>ColumnTransformer(transformers=[(&#x27;num&#x27;, MinMaxScaler(),\n",
              "                                 [&#x27;variance&#x27;, &#x27;skewness&#x27;, &#x27;curtosis&#x27;,\n",
              "                                  &#x27;entropy&#x27;])])</pre></div></div></div><div class=\"sk-parallel\"><div class=\"sk-parallel-item\"><div class=\"sk-item\"><div class=\"sk-label-container\"><div class=\"sk-label sk-toggleable\"><input class=\"sk-toggleable__control sk-hidden--visually\" id=\"cac7dd6d-7614-4ec2-9288-8074497734c6\" type=\"checkbox\" ><label for=\"cac7dd6d-7614-4ec2-9288-8074497734c6\" class=\"sk-toggleable__label sk-toggleable__label-arrow\">num</label><div class=\"sk-toggleable__content\"><pre>[&#x27;variance&#x27;, &#x27;skewness&#x27;, &#x27;curtosis&#x27;, &#x27;entropy&#x27;]</pre></div></div></div><div class=\"sk-serial\"><div class=\"sk-item\"><div class=\"sk-estimator sk-toggleable\"><input class=\"sk-toggleable__control sk-hidden--visually\" id=\"841f7cdd-0a72-4f8a-b01d-50c888098754\" type=\"checkbox\" ><label for=\"841f7cdd-0a72-4f8a-b01d-50c888098754\" class=\"sk-toggleable__label sk-toggleable__label-arrow\">MinMaxScaler</label><div class=\"sk-toggleable__content\"><pre>MinMaxScaler()</pre></div></div></div></div></div></div></div></div><div class=\"sk-item\"><div class=\"sk-estimator sk-toggleable\"><input class=\"sk-toggleable__control sk-hidden--visually\" id=\"30a6a5bd-d008-46be-8cf3-be5b8bbed629\" type=\"checkbox\" ><label for=\"30a6a5bd-d008-46be-8cf3-be5b8bbed629\" class=\"sk-toggleable__label sk-toggleable__label-arrow\">DecisionTreeClassifier</label><div class=\"sk-toggleable__content\"><pre>DecisionTreeClassifier(max_depth=5)</pre></div></div></div></div></div></div></div>"
            ]
          },
          "metadata": {},
          "execution_count": 45
        }
      ]
    },
    {
      "cell_type": "markdown",
      "source": [
        "##Evaluating the Model"
      ],
      "metadata": {
        "id": "6BiYjFnda5oD"
      }
    },
    {
      "cell_type": "code",
      "source": [
        "from sklearn.metrics import confusion_matrix\n",
        "from sklearn.metrics import precision_score, recall_score, f1_score\n",
        "from sklearn.metrics import roc_curve\n",
        "from sklearn.metrics import roc_auc_score\n",
        "from sklearn.metrics import r2_score\n",
        "from sklearn.metrics import mean_squared_error\n",
        "from sklearn.metrics import precision_recall_curve\n",
        "from sklearn.metrics import auc"
      ],
      "metadata": {
        "id": "eYiS0en2bQ2y"
      },
      "execution_count": 46,
      "outputs": []
    },
    {
      "cell_type": "code",
      "source": [
        "def plot_cm(y_test, y_pred):\n",
        "    cm = confusion_matrix(y_test,y_pred)\n",
        "    fig = plt.figure(figsize=(10,10))\n",
        "    heatmap = sns.heatmap(cm, annot=True, fmt='.2f', cmap='RdYlGn')\n",
        "    plt.ylabel('True label')\n",
        "    plt.xlabel('Predicted Label')"
      ],
      "metadata": {
        "id": "-PrAnEzLbZAs"
      },
      "execution_count": 47,
      "outputs": []
    },
    {
      "cell_type": "code",
      "source": [
        "y_pred = pipeline.predict(X_test)"
      ],
      "metadata": {
        "id": "wdCjuaHvazeJ"
      },
      "execution_count": 48,
      "outputs": []
    },
    {
      "cell_type": "code",
      "source": [
        "plot_cm(y_test, y_pred)"
      ],
      "metadata": {
        "colab": {
          "base_uri": "https://localhost:8080/",
          "height": 606
        },
        "id": "LlIsRfEIbazn",
        "outputId": "2b8aad49-d8b7-4e3d-95b7-1b5081f17b75"
      },
      "execution_count": 49,
      "outputs": [
        {
          "output_type": "display_data",
          "data": {
            "text/plain": [
              "<Figure size 720x720 with 2 Axes>"
            ],
            "image/png": "[encoded data removed]"
          },
          "metadata": {
            "needs_background": "light"
          }
        }
      ]
    },
    {
      "cell_type": "code",
      "source": [
        "print('Precision: ', precision_score(y_test, y_pred))\n",
        "print('Recall: ', recall_score(y_test, y_pred))\n",
        "print('F1 Score: ', f1_score(y_test, y_pred))"
      ],
      "metadata": {
        "colab": {
          "base_uri": "https://localhost:8080/"
        },
        "id": "1lMeCG97bkHe",
        "outputId": "2e04e16c-4217-42e0-ff6e-257c4ec53e24"
      },
      "execution_count": 50,
      "outputs": [
        {
          "output_type": "stream",
          "name": "stdout",
          "text": [
            "Precision:  0.9826086956521739\n",
            "Recall:  0.9495798319327731\n",
            "F1 Score:  0.9658119658119659\n"
          ]
        }
      ]
    },
    {
      "cell_type": "markdown",
      "source": [
        "##Conclusion"
      ],
      "metadata": {
        "id": "e8z58Tkebxn4"
      }
    },
    {
      "cell_type": "markdown",
      "source": [
        "With a high recall score this model is great predicting the positive class, a high precision also indicates that this model also predicts the negative class with a high accuracy, with a high recall and precision score the f1 score is also high. Overall, this model is a great fit to the dataset."
      ],
      "metadata": {
        "id": "wn2bxRXVb066"
      }
    },
    {
      "cell_type": "markdown",
      "source": [
        "##**DecisionTree Regression**"
      ],
      "metadata": {
        "id": "sFAo1eGCOys_"
      }
    },
    {
      "cell_type": "markdown",
      "source": [
        "##Acquire Data"
      ],
      "metadata": {
        "id": "TBEPBkk6O8Qv"
      }
    },
    {
      "cell_type": "code",
      "source": [
        "df = pd.read_csv('/content/gdrive/MyDrive/CS430/Module4/Steel_industry_data.csv')"
      ],
      "metadata": {
        "id": "o7mhu9hLOp9G"
      },
      "execution_count": 51,
      "outputs": []
    },
    {
      "cell_type": "code",
      "source": [
        "new_name = {'Usage_kWh':'usage_kwh', \n",
        "          'Lagging_Current_Reactive.Power_kVarh':'lag_react_pwr_kvarh',\n",
        "          'Leading_Current_Reactive_Power_kVarh':'lead_react_pwr_kvarh',\n",
        "          'Lagging_Current_Power_Factor':'lag_current_pwr',\n",
        "          'Leading_Current_Power_Factor':'lead_current_pwr',\n",
        "          'NSM':'nsm',\n",
        "          'WeekStatus':'week_status',\n",
        "          'Day_of_week':'day_of_week',\n",
        "          'Load_Type':'load_type'}"
      ],
      "metadata": {
        "id": "SLlFbuY7PCSu"
      },
      "execution_count": 52,
      "outputs": []
    },
    {
      "cell_type": "code",
      "source": [
        "df.rename(columns=new_name, inplace=True)"
      ],
      "metadata": {
        "id": "ybqCiXxxRaTL"
      },
      "execution_count": 53,
      "outputs": []
    },
    {
      "cell_type": "markdown",
      "source": [
        "##Splitting Data into Train/Test"
      ],
      "metadata": {
        "id": "fsiXtJPA5xQS"
      }
    },
    {
      "cell_type": "code",
      "source": [
        "df.head()"
      ],
      "metadata": {
        "colab": {
          "base_uri": "https://localhost:8080/",
          "height": 206
        },
        "id": "CVGloMuDSJXC",
        "outputId": "020a0a50-e5be-4c75-f4ec-954a2bc0a47c"
      },
      "execution_count": 54,
      "outputs": [
        {
          "output_type": "execute_result",
          "data": {
            "text/plain": [
              "               date  usage_kwh  lag_react_pwr_kvarh  lead_react_pwr_kvarh  \\\n",
              "0  01/01/2018 00:15       3.17                 2.95                   0.0   \n",
              "1  01/01/2018 00:30       4.00                 4.46                   0.0   \n",
              "2  01/01/2018 00:45       3.24                 3.28                   0.0   \n",
              "3  01/01/2018 01:00       3.31                 3.56                   0.0   \n",
              "4  01/01/2018 01:15       3.82                 4.50                   0.0   \n",
              "\n",
              "   CO2(tCO2)  lag_current_pwr  lead_current_pwr   nsm week_status day_of_week  \\\n",
              "0        0.0            73.21             100.0   900     Weekday      Monday   \n",
              "1        0.0            66.77             100.0  1800     Weekday      Monday   \n",
              "2        0.0            70.28             100.0  2700     Weekday      Monday   \n",
              "3        0.0            68.09             100.0  3600     Weekday      Monday   \n",
              "4        0.0            64.72             100.0  4500     Weekday      Monday   \n",
              "\n",
              "    load_type  \n",
              "0  Light_Load  \n",
              "1  Light_Load  \n",
              "2  Light_Load  \n",
              "3  Light_Load  \n",
              "4  Light_Load  "
            ],
            "text/html": [
              "\n",
              "  <div id=\"df-dde7f185-c926-4587-8d59-97b811acbcce\">\n",
              "    <div class=\"colab-df-container\">\n",
              "      <div>\n",
              "<style scoped>\n",
              "    .dataframe tbody tr th:only-of-type {\n",
              "        vertical-align: middle;\n",
              "    }\n",
              "\n",
              "    .dataframe tbody tr th {\n",
              "        vertical-align: top;\n",
              "    }\n",
              "\n",
              "    .dataframe thead th {\n",
              "        text-align: right;\n",
              "    }\n",
              "</style>\n",
              "<table border=\"1\" class=\"dataframe\">\n",
              "  <thead>\n",
              "    <tr style=\"text-align: right;\">\n",
              "      <th></th>\n",
              "      <th>date</th>\n",
              "      <th>usage_kwh</th>\n",
              "      <th>lag_react_pwr_kvarh</th>\n",
              "      <th>lead_react_pwr_kvarh</th>\n",
              "      <th>CO2(tCO2)</th>\n",
              "      <th>lag_current_pwr</th>\n",
              "      <th>lead_current_pwr</th>\n",
              "      <th>nsm</th>\n",
              "      <th>week_status</th>\n",
              "      <th>day_of_week</th>\n",
              "      <th>load_type</th>\n",
              "    </tr>\n",
              "  </thead>\n",
              "  <tbody>\n",
              "    <tr>\n",
              "      <th>0</th>\n",
              "      <td>01/01/2018 00:15</td>\n",
              "      <td>3.17</td>\n",
              "      <td>2.95</td>\n",
              "      <td>0.0</td>\n",
              "      <td>0.0</td>\n",
              "      <td>73.21</td>\n",
              "      <td>100.0</td>\n",
              "      <td>900</td>\n",
              "      <td>Weekday</td>\n",
              "      <td>Monday</td>\n",
              "      <td>Light_Load</td>\n",
              "    </tr>\n",
              "    <tr>\n",
              "      <th>1</th>\n",
              "      <td>01/01/2018 00:30</td>\n",
              "      <td>4.00</td>\n",
              "      <td>4.46</td>\n",
              "      <td>0.0</td>\n",
              "      <td>0.0</td>\n",
              "      <td>66.77</td>\n",
              "      <td>100.0</td>\n",
              "      <td>1800</td>\n",
              "      <td>Weekday</td>\n",
              "      <td>Monday</td>\n",
              "      <td>Light_Load</td>\n",
              "    </tr>\n",
              "    <tr>\n",
              "      <th>2</th>\n",
              "      <td>01/01/2018 00:45</td>\n",
              "      <td>3.24</td>\n",
              "      <td>3.28</td>\n",
              "      <td>0.0</td>\n",
              "      <td>0.0</td>\n",
              "      <td>70.28</td>\n",
              "      <td>100.0</td>\n",
              "      <td>2700</td>\n",
              "      <td>Weekday</td>\n",
              "      <td>Monday</td>\n",
              "      <td>Light_Load</td>\n",
              "    </tr>\n",
              "    <tr>\n",
              "      <th>3</th>\n",
              "      <td>01/01/2018 01:00</td>\n",
              "      <td>3.31</td>\n",
              "      <td>3.56</td>\n",
              "      <td>0.0</td>\n",
              "      <td>0.0</td>\n",
              "      <td>68.09</td>\n",
              "      <td>100.0</td>\n",
              "      <td>3600</td>\n",
              "      <td>Weekday</td>\n",
              "      <td>Monday</td>\n",
              "      <td>Light_Load</td>\n",
              "    </tr>\n",
              "    <tr>\n",
              "      <th>4</th>\n",
              "      <td>01/01/2018 01:15</td>\n",
              "      <td>3.82</td>\n",
              "      <td>4.50</td>\n",
              "      <td>0.0</td>\n",
              "      <td>0.0</td>\n",
              "      <td>64.72</td>\n",
              "      <td>100.0</td>\n",
              "      <td>4500</td>\n",
              "      <td>Weekday</td>\n",
              "      <td>Monday</td>\n",
              "      <td>Light_Load</td>\n",
              "    </tr>\n",
              "  </tbody>\n",
              "</table>\n",
              "</div>\n",
              "      <button class=\"colab-df-convert\" onclick=\"convertToInteractive('df-dde7f185-c926-4587-8d59-97b811acbcce')\"\n",
              "              title=\"Convert this dataframe to an interactive table.\"\n",
              "              style=\"display:none;\">\n",
              "        \n",
              "  <svg xmlns=\"http://www.w3.org/2000/svg\" height=\"24px\"viewBox=\"0 0 24 24\"\n",
              "       width=\"24px\">\n",
              "    <path d=\"M0 0h24v24H0V0z\" fill=\"none\"/>\n",
              "    <path d=\"M18.56 5.44l.94 2.06.94-2.06 2.06-.94-2.06-.94-.94-2.06-.94 2.06-2.06.94zm-11 1L8.5 8.5l.94-2.06 2.06-.94-2.06-.94L8.5 2.5l-.94 2.06-2.06.94zm10 10l.94 2.06.94-2.06 2.06-.94-2.06-.94-.94-2.06-.94 2.06-2.06.94z\"/><path d=\"M17.41 7.96l-1.37-1.37c-.4-.4-.92-.59-1.43-.59-.52 0-1.04.2-1.43.59L10.3 9.45l-7.72 7.72c-.78.78-.78 2.05 0 2.83L4 21.41c.39.39.9.59 1.41.59.51 0 1.02-.2 1.41-.59l7.78-7.78 2.81-2.81c.8-.78.8-2.07 0-2.86zM5.41 20L4 18.59l7.72-7.72 1.47 1.35L5.41 20z\"/>\n",
              "  </svg>\n",
              "      </button>\n",
              "      \n",
              "  <style>\n",
              "    .colab-df-container {\n",
              "      display:flex;\n",
              "      flex-wrap:wrap;\n",
              "      gap: 12px;\n",
              "    }\n",
              "\n",
              "    .colab-df-convert {\n",
              "      background-color: #E8F0FE;\n",
              "      border: none;\n",
              "      border-radius: 50%;\n",
              "      cursor: pointer;\n",
              "      display: none;\n",
              "      fill: #1967D2;\n",
              "      height: 32px;\n",
              "      padding: 0 0 0 0;\n",
              "      width: 32px;\n",
              "    }\n",
              "\n",
              "    .colab-df-convert:hover {\n",
              "      background-color: #E2EBFA;\n",
              "      box-shadow: 0px 1px 2px rgba(60, 64, 67, 0.3), 0px 1px 3px 1px rgba(60, 64, 67, 0.15);\n",
              "      fill: #174EA6;\n",
              "    }\n",
              "\n",
              "    [theme=dark] .colab-df-convert {\n",
              "      background-color: #3B4455;\n",
              "      fill: #D2E3FC;\n",
              "    }\n",
              "\n",
              "    [theme=dark] .colab-df-convert:hover {\n",
              "      background-color: #434B5C;\n",
              "      box-shadow: 0px 1px 3px 1px rgba(0, 0, 0, 0.15);\n",
              "      filter: drop-shadow(0px 1px 2px rgba(0, 0, 0, 0.3));\n",
              "      fill: #FFFFFF;\n",
              "    }\n",
              "  </style>\n",
              "\n",
              "      <script>\n",
              "        const buttonEl =\n",
              "          document.querySelector('#df-dde7f185-c926-4587-8d59-97b811acbcce button.colab-df-convert');\n",
              "        buttonEl.style.display =\n",
              "          google.colab.kernel.accessAllowed ? 'block' : 'none';\n",
              "\n",
              "        async function convertToInteractive(key) {\n",
              "          const element = document.querySelector('#df-dde7f185-c926-4587-8d59-97b811acbcce');\n",
              "          const dataTable =\n",
              "            await google.colab.kernel.invokeFunction('convertToInteractive',\n",
              "                                                     [key], {});\n",
              "          if (!dataTable) return;\n",
              "\n",
              "          const docLinkHtml = 'Like what you see? Visit the ' +\n",
              "            '<a target=\"_blank\" href=https://colab.research.google.com/notebooks/data_table.ipynb>data table notebook</a>'\n",
              "            + ' to learn more about interactive tables.';\n",
              "          element.innerHTML = '';\n",
              "          dataTable['output_type'] = 'display_data';\n",
              "          await google.colab.output.renderOutput(dataTable, element);\n",
              "          const docLink = document.createElement('div');\n",
              "          docLink.innerHTML = docLinkHtml;\n",
              "          element.appendChild(docLink);\n",
              "        }\n",
              "      </script>\n",
              "    </div>\n",
              "  </div>\n",
              "  "
            ]
          },
          "metadata": {},
          "execution_count": 54
        }
      ]
    },
    {
      "cell_type": "code",
      "source": [
        "input_columns = list(df.columns)[2:len(df.columns)]"
      ],
      "metadata": {
        "id": "3PLkPMzh57YW"
      },
      "execution_count": 55,
      "outputs": []
    },
    {
      "cell_type": "code",
      "source": [
        "X = df[input_columns]\n",
        "y = df['usage_kwh']"
      ],
      "metadata": {
        "id": "XQ-EqxU46mtf"
      },
      "execution_count": 56,
      "outputs": []
    },
    {
      "cell_type": "code",
      "source": [
        "X_train, X_test, y_train, y_test = train_test_split(X, y, test_size=.2, random_state=32)"
      ],
      "metadata": {
        "id": "WpcJf_jI624g"
      },
      "execution_count": 57,
      "outputs": []
    },
    {
      "cell_type": "markdown",
      "source": [
        "##Building the Pipeline"
      ],
      "metadata": {
        "id": "eyggBpzx6-eJ"
      }
    },
    {
      "cell_type": "code",
      "source": [
        "input_columns\n",
        "num_attribs = input_columns[:-3]\n",
        "cat_attribs = input_columns[len(input_columns)-3:]"
      ],
      "metadata": {
        "id": "x5q6-lOO7J1k"
      },
      "execution_count": 58,
      "outputs": []
    },
    {
      "cell_type": "code",
      "source": [
        "col_transform = ColumnTransformer(transformers=[\n",
        "                                                ('num', MinMaxScaler(), num_attribs),\n",
        "                                                ('cat', OneHotEncoder(), cat_attribs),\n",
        "                                ])"
      ],
      "metadata": {
        "id": "2Z7tEKk-7BJ7"
      },
      "execution_count": 59,
      "outputs": []
    },
    {
      "cell_type": "code",
      "source": [
        "pipeline = Pipeline([\n",
        "                     ('transform', col_transform),\n",
        "                     ('decision_tree', tree.DecisionTreeRegressor(max_depth=5))\n",
        "])"
      ],
      "metadata": {
        "id": "KH-eBY4Y_9DR"
      },
      "execution_count": 60,
      "outputs": []
    },
    {
      "cell_type": "markdown",
      "source": [
        "##Executing the Pipeline"
      ],
      "metadata": {
        "id": "oSPO51VEAFCk"
      }
    },
    {
      "cell_type": "code",
      "source": [
        "pipeline.fit(X_train, y_train)"
      ],
      "metadata": {
        "colab": {
          "base_uri": "https://localhost:8080/",
          "height": 192
        },
        "id": "L3Gme6uxAJbS",
        "outputId": "dca674d2-13e5-436e-c182-47b097eb4661"
      },
      "execution_count": 61,
      "outputs": [
        {
          "output_type": "execute_result",
          "data": {
            "text/plain": [
              "Pipeline(steps=[('transform',\n",
              "                 ColumnTransformer(transformers=[('num', MinMaxScaler(),\n",
              "                                                  ['lag_react_pwr_kvarh',\n",
              "                                                   'lead_react_pwr_kvarh',\n",
              "                                                   'CO2(tCO2)',\n",
              "                                                   'lag_current_pwr',\n",
              "                                                   'lead_current_pwr', 'nsm']),\n",
              "                                                 ('cat', OneHotEncoder(),\n",
              "                                                  ['week_status', 'day_of_week',\n",
              "                                                   'load_type'])])),\n",
              "                ('decision_tree', DecisionTreeRegressor(max_depth=5))])"
            ],
            "text/html": [
              "<style>#sk-e0a0cf77-4a87-4a8f-a671-f5f68082fe98 {color: black;background-color: white;}#sk-e0a0cf77-4a87-4a8f-a671-f5f68082fe98 pre{padding: 0;}#sk-e0a0cf77-4a87-4a8f-a671-f5f68082fe98 div.sk-toggleable {background-color: white;}#sk-e0a0cf77-4a87-4a8f-a671-f5f68082fe98 label.sk-toggleable__label {cursor: pointer;display: block;width: 100%;margin-bottom: 0;padding: 0.3em;box-sizing: border-box;text-align: center;}#sk-e0a0cf77-4a87-4a8f-a671-f5f68082fe98 label.sk-toggleable__label-arrow:before {content: \"▸\";float: left;margin-right: 0.25em;color: #696969;}#sk-e0a0cf77-4a87-4a8f-a671-f5f68082fe98 label.sk-toggleable__label-arrow:hover:before {color: black;}#sk-e0a0cf77-4a87-4a8f-a671-f5f68082fe98 div.sk-estimator:hover label.sk-toggleable__label-arrow:before {color: black;}#sk-e0a0cf77-4a87-4a8f-a671-f5f68082fe98 div.sk-toggleable__content {max-height: 0;max-width: 0;overflow: hidden;text-align: left;background-color: #f0f8ff;}#sk-e0a0cf77-4a87-4a8f-a671-f5f68082fe98 div.sk-toggleable__content pre {margin: 0.2em;color: black;border-radius: 0.25em;background-color: #f0f8ff;}#sk-e0a0cf77-4a87-4a8f-a671-f5f68082fe98 input.sk-toggleable__control:checked~div.sk-toggleable__content {max-height: 200px;max-width: 100%;overflow: auto;}#sk-e0a0cf77-4a87-4a8f-a671-f5f68082fe98 input.sk-toggleable__control:checked~label.sk-toggleable__label-arrow:before {content: \"▾\";}#sk-e0a0cf77-4a87-4a8f-a671-f5f68082fe98 div.sk-estimator input.sk-toggleable__control:checked~label.sk-toggleable__label {background-color: #d4ebff;}#sk-e0a0cf77-4a87-4a8f-a671-f5f68082fe98 div.sk-label input.sk-toggleable__control:checked~label.sk-toggleable__label {background-color: #d4ebff;}#sk-e0a0cf77-4a87-4a8f-a671-f5f68082fe98 input.sk-hidden--visually {border: 0;clip: rect(1px 1px 1px 1px);clip: rect(1px, 1px, 1px, 1px);height: 1px;margin: -1px;overflow: hidden;padding: 0;position: absolute;width: 1px;}#sk-e0a0cf77-4a87-4a8f-a671-f5f68082fe98 div.sk-estimator {font-family: monospace;background-color: #f0f8ff;border: 1px dotted black;border-radius: 0.25em;box-sizing: border-box;margin-bottom: 0.5em;}#sk-e0a0cf77-4a87-4a8f-a671-f5f68082fe98 div.sk-estimator:hover {background-color: #d4ebff;}#sk-e0a0cf77-4a87-4a8f-a671-f5f68082fe98 div.sk-parallel-item::after {content: \"\";width: 100%;border-bottom: 1px solid gray;flex-grow: 1;}#sk-e0a0cf77-4a87-4a8f-a671-f5f68082fe98 div.sk-label:hover label.sk-toggleable__label {background-color: #d4ebff;}#sk-e0a0cf77-4a87-4a8f-a671-f5f68082fe98 div.sk-serial::before {content: \"\";position: absolute;border-left: 1px solid gray;box-sizing: border-box;top: 2em;bottom: 0;left: 50%;}#sk-e0a0cf77-4a87-4a8f-a671-f5f68082fe98 div.sk-serial {display: flex;flex-direction: column;align-items: center;background-color: white;padding-right: 0.2em;padding-left: 0.2em;}#sk-e0a0cf77-4a87-4a8f-a671-f5f68082fe98 div.sk-item {z-index: 1;}#sk-e0a0cf77-4a87-4a8f-a671-f5f68082fe98 div.sk-parallel {display: flex;align-items: stretch;justify-content: center;background-color: white;}#sk-e0a0cf77-4a87-4a8f-a671-f5f68082fe98 div.sk-parallel::before {content: \"\";position: absolute;border-left: 1px solid gray;box-sizing: border-box;top: 2em;bottom: 0;left: 50%;}#sk-e0a0cf77-4a87-4a8f-a671-f5f68082fe98 div.sk-parallel-item {display: flex;flex-direction: column;position: relative;background-color: white;}#sk-e0a0cf77-4a87-4a8f-a671-f5f68082fe98 div.sk-parallel-item:first-child::after {align-self: flex-end;width: 50%;}#sk-e0a0cf77-4a87-4a8f-a671-f5f68082fe98 div.sk-parallel-item:last-child::after {align-self: flex-start;width: 50%;}#sk-e0a0cf77-4a87-4a8f-a671-f5f68082fe98 div.sk-parallel-item:only-child::after {width: 0;}#sk-e0a0cf77-4a87-4a8f-a671-f5f68082fe98 div.sk-dashed-wrapped {border: 1px dashed gray;margin: 0 0.4em 0.5em 0.4em;box-sizing: border-box;padding-bottom: 0.4em;background-color: white;position: relative;}#sk-e0a0cf77-4a87-4a8f-a671-f5f68082fe98 div.sk-label label {font-family: monospace;font-weight: bold;background-color: white;display: inline-block;line-height: 1.2em;}#sk-e0a0cf77-4a87-4a8f-a671-f5f68082fe98 div.sk-label-container {position: relative;z-index: 2;text-align: center;}#sk-e0a0cf77-4a87-4a8f-a671-f5f68082fe98 div.sk-container {/* jupyter's `normalize.less` sets `[hidden] { display: none; }` but bootstrap.min.css set `[hidden] { display: none !important; }` so we also need the `!important` here to be able to override the default hidden behavior on the sphinx rendered scikit-learn.org. See: https://github.com/scikit-learn/scikit-learn/issues/21755 */display: inline-block !important;position: relative;}#sk-e0a0cf77-4a87-4a8f-a671-f5f68082fe98 div.sk-text-repr-fallback {display: none;}</style><div id=\"sk-e0a0cf77-4a87-4a8f-a671-f5f68082fe98\" class=\"sk-top-container\"><div class=\"sk-text-repr-fallback\"><pre>Pipeline(steps=[(&#x27;transform&#x27;,\n",
              "                 ColumnTransformer(transformers=[(&#x27;num&#x27;, MinMaxScaler(),\n",
              "                                                  [&#x27;lag_react_pwr_kvarh&#x27;,\n",
              "                                                   &#x27;lead_react_pwr_kvarh&#x27;,\n",
              "                                                   &#x27;CO2(tCO2)&#x27;,\n",
              "                                                   &#x27;lag_current_pwr&#x27;,\n",
              "                                                   &#x27;lead_current_pwr&#x27;, &#x27;nsm&#x27;]),\n",
              "                                                 (&#x27;cat&#x27;, OneHotEncoder(),\n",
              "                                                  [&#x27;week_status&#x27;, &#x27;day_of_week&#x27;,\n",
              "                                                   &#x27;load_type&#x27;])])),\n",
              "                (&#x27;decision_tree&#x27;, DecisionTreeRegressor(max_depth=5))])</pre><b>Please rerun this cell to show the HTML repr or trust the notebook.</b></div><div class=\"sk-container\" hidden><div class=\"sk-item sk-dashed-wrapped\"><div class=\"sk-label-container\"><div class=\"sk-label sk-toggleable\"><input class=\"sk-toggleable__control sk-hidden--visually\" id=\"ebc294b8-3078-45d6-8999-da7e1865c826\" type=\"checkbox\" ><label for=\"ebc294b8-3078-45d6-8999-da7e1865c826\" class=\"sk-toggleable__label sk-toggleable__label-arrow\">Pipeline</label><div class=\"sk-toggleable__content\"><pre>Pipeline(steps=[(&#x27;transform&#x27;,\n",
              "                 ColumnTransformer(transformers=[(&#x27;num&#x27;, MinMaxScaler(),\n",
              "                                                  [&#x27;lag_react_pwr_kvarh&#x27;,\n",
              "                                                   &#x27;lead_react_pwr_kvarh&#x27;,\n",
              "                                                   &#x27;CO2(tCO2)&#x27;,\n",
              "                                                   &#x27;lag_current_pwr&#x27;,\n",
              "                                                   &#x27;lead_current_pwr&#x27;, &#x27;nsm&#x27;]),\n",
              "                                                 (&#x27;cat&#x27;, OneHotEncoder(),\n",
              "                                                  [&#x27;week_status&#x27;, &#x27;day_of_week&#x27;,\n",
              "                                                   &#x27;load_type&#x27;])])),\n",
              "                (&#x27;decision_tree&#x27;, DecisionTreeRegressor(max_depth=5))])</pre></div></div></div><div class=\"sk-serial\"><div class=\"sk-item sk-dashed-wrapped\"><div class=\"sk-label-container\"><div class=\"sk-label sk-toggleable\"><input class=\"sk-toggleable__control sk-hidden--visually\" id=\"9007aa00-3edf-4ab2-a97a-f21e59c90b50\" type=\"checkbox\" ><label for=\"9007aa00-3edf-4ab2-a97a-f21e59c90b50\" class=\"sk-toggleable__label sk-toggleable__label-arrow\">transform: ColumnTransformer</label><div class=\"sk-toggleable__content\"><pre>ColumnTransformer(transformers=[(&#x27;num&#x27;, MinMaxScaler(),\n",
              "                                 [&#x27;lag_react_pwr_kvarh&#x27;, &#x27;lead_react_pwr_kvarh&#x27;,\n",
              "                                  &#x27;CO2(tCO2)&#x27;, &#x27;lag_current_pwr&#x27;,\n",
              "                                  &#x27;lead_current_pwr&#x27;, &#x27;nsm&#x27;]),\n",
              "                                (&#x27;cat&#x27;, OneHotEncoder(),\n",
              "                                 [&#x27;week_status&#x27;, &#x27;day_of_week&#x27;, &#x27;load_type&#x27;])])</pre></div></div></div><div class=\"sk-parallel\"><div class=\"sk-parallel-item\"><div class=\"sk-item\"><div class=\"sk-label-container\"><div class=\"sk-label sk-toggleable\"><input class=\"sk-toggleable__control sk-hidden--visually\" id=\"1c94ad0b-65b6-4d42-8232-f1bedda800e4\" type=\"checkbox\" ><label for=\"1c94ad0b-65b6-4d42-8232-f1bedda800e4\" class=\"sk-toggleable__label sk-toggleable__label-arrow\">num</label><div class=\"sk-toggleable__content\"><pre>[&#x27;lag_react_pwr_kvarh&#x27;, &#x27;lead_react_pwr_kvarh&#x27;, &#x27;CO2(tCO2)&#x27;, &#x27;lag_current_pwr&#x27;, &#x27;lead_current_pwr&#x27;, &#x27;nsm&#x27;]</pre></div></div></div><div class=\"sk-serial\"><div class=\"sk-item\"><div class=\"sk-estimator sk-toggleable\"><input class=\"sk-toggleable__control sk-hidden--visually\" id=\"14d5314a-3506-4cc0-a954-6d528ca669d8\" type=\"checkbox\" ><label for=\"14d5314a-3506-4cc0-a954-6d528ca669d8\" class=\"sk-toggleable__label sk-toggleable__label-arrow\">MinMaxScaler</label><div class=\"sk-toggleable__content\"><pre>MinMaxScaler()</pre></div></div></div></div></div></div><div class=\"sk-parallel-item\"><div class=\"sk-item\"><div class=\"sk-label-container\"><div class=\"sk-label sk-toggleable\"><input class=\"sk-toggleable__control sk-hidden--visually\" id=\"7632c13a-54ef-4962-b78a-d77ff6d69bc0\" type=\"checkbox\" ><label for=\"7632c13a-54ef-4962-b78a-d77ff6d69bc0\" class=\"sk-toggleable__label sk-toggleable__label-arrow\">cat</label><div class=\"sk-toggleable__content\"><pre>[&#x27;week_status&#x27;, &#x27;day_of_week&#x27;, &#x27;load_type&#x27;]</pre></div></div></div><div class=\"sk-serial\"><div class=\"sk-item\"><div class=\"sk-estimator sk-toggleable\"><input class=\"sk-toggleable__control sk-hidden--visually\" id=\"b87144f2-1547-4bd9-87f6-da8100436834\" type=\"checkbox\" ><label for=\"b87144f2-1547-4bd9-87f6-da8100436834\" class=\"sk-toggleable__label sk-toggleable__label-arrow\">OneHotEncoder</label><div class=\"sk-toggleable__content\"><pre>OneHotEncoder()</pre></div></div></div></div></div></div></div></div><div class=\"sk-item\"><div class=\"sk-estimator sk-toggleable\"><input class=\"sk-toggleable__control sk-hidden--visually\" id=\"8c450a59-0ab8-481f-8867-987b26a57b84\" type=\"checkbox\" ><label for=\"8c450a59-0ab8-481f-8867-987b26a57b84\" class=\"sk-toggleable__label sk-toggleable__label-arrow\">DecisionTreeRegressor</label><div class=\"sk-toggleable__content\"><pre>DecisionTreeRegressor(max_depth=5)</pre></div></div></div></div></div></div></div>"
            ]
          },
          "metadata": {},
          "execution_count": 61
        }
      ]
    },
    {
      "cell_type": "markdown",
      "source": [
        "##Evaluating the Model"
      ],
      "metadata": {
        "id": "t6V0j9i8ARTv"
      }
    },
    {
      "cell_type": "code",
      "source": [
        "y_pred = pipeline.predict(X_test)"
      ],
      "metadata": {
        "id": "4BViswZ_ATpv"
      },
      "execution_count": 62,
      "outputs": []
    },
    {
      "cell_type": "code",
      "source": [
        "print('The root mean squared error for the train is: ', mean_squared_error(y_train, pipeline.predict(X_train))**0.5)\n",
        "print('The root mean squared error for the test is: ', mean_squared_error(y_test, y_pred)**0.5)"
      ],
      "metadata": {
        "colab": {
          "base_uri": "https://localhost:8080/"
        },
        "id": "N63m5oicAxxk",
        "outputId": "1779dea9-4ab5-4729-87ef-357f38f3c41d"
      },
      "execution_count": 63,
      "outputs": [
        {
          "output_type": "stream",
          "name": "stdout",
          "text": [
            "The root mean squared error for the train is:  3.5249255897811294\n",
            "The root mean squared error for the test is:  3.6060394083742837\n"
          ]
        }
      ]
    },
    {
      "cell_type": "markdown",
      "source": [
        "The root mean squared error for both the train and test set are relatively low meaning that on average the difference of the output from the model and the actual output from the data itself are small, this means that what the model predicts is close to what the data outputs. "
      ],
      "metadata": {
        "id": "B4Vk6nj_BJNy"
      }
    },
    {
      "cell_type": "markdown",
      "source": [
        "##Conclusion"
      ],
      "metadata": {
        "id": "KfLW28TzB-9m"
      }
    },
    {
      "cell_type": "markdown",
      "source": [
        "The low values from the root mean square analysis indicates that the model is suitable for predicting Kwh usage. This model predicts Kwh usage that is very close to the actual data when the inputs are from the dataset."
      ],
      "metadata": {
        "id": "rTblM-XCC3ml"
      }
    }
  ]
}