{
  "nbformat": 4,
  "nbformat_minor": 0,
  "metadata": {
    "colab": {
      "name": "MLA5_CPA.ipynb",
      "provenance": [],
      "collapsed_sections": [],
      "authorship_tag": "ABX9TyM4Eepkv1GgJog6xNsXYxVE",
      "include_colab_link": true
    },
    "kernelspec": {
      "name": "python3",
      "display_name": "Python 3"
    },
    "language_info": {
      "name": "python"
    }
  },
  "cells": [
    {
      "cell_type": "markdown",
      "metadata": {
        "id": "view-in-github",
        "colab_type": "text"
      },
      "source": [
        "<a href=\"https://colab.research.google.com/github/cvrl10/MLA_CPA/blob/main/MLA5_CPA.ipynb\" target=\"_parent\"><img src=\"https://colab.research.google.com/assets/colab-badge.svg\" alt=\"Open In Colab\"/></a>"
      ]
    },
    {
      "cell_type": "markdown",
      "source": [
        "**Machine Learning Assignment 5**\n",
        "\n",
        "**CS430-ON**\n",
        "\n",
        "**Machine Learning in the Cloud**"
      ],
      "metadata": {
        "id": "xjXu1lubCfXO"
      }
    },
    {
      "cell_type": "code",
      "execution_count": 7,
      "metadata": {
        "id": "SJMy-U6You9E"
      },
      "outputs": [],
      "source": [
        "import pandas as pd\n",
        "import numpy as np\n",
        "import matplotlib.pyplot as plt\n",
        "import seaborn as sns\n",
        "%matplotlib inline"
      ]
    },
    {
      "cell_type": "code",
      "source": [
        "from google.colab import drive\n",
        "drive.mount('/content/gdrive')"
      ],
      "metadata": {
        "colab": {
          "base_uri": "https://localhost:8080/"
        },
        "id": "Wzxdr3eMp9ZE",
        "outputId": "01afe907-8d66-4abb-946f-6003583163dd"
      },
      "execution_count": 8,
      "outputs": [
        {
          "output_type": "stream",
          "name": "stdout",
          "text": [
            "Mounted at /content/gdrive\n"
          ]
        }
      ]
    },
    {
      "cell_type": "markdown",
      "source": [
        "##Imports for specific models"
      ],
      "metadata": {
        "id": "AWH195_1qDyJ"
      }
    },
    {
      "cell_type": "code",
      "source": [
        "from sklearn.ensemble import VotingClassifier, BaggingClassifier, RandomForestClassifier, AdaBoostClassifier\n",
        "from sklearn.neighbors import KNeighborsClassifier\n",
        "from sklearn.linear_model import LogisticRegression\n",
        "from sklearn.svm import SVC"
      ],
      "metadata": {
        "id": "krZGDwH_qGNm"
      },
      "execution_count": 9,
      "outputs": []
    },
    {
      "cell_type": "markdown",
      "source": [
        "##Imports for Splitting Data and Building Pipeline"
      ],
      "metadata": {
        "id": "vwY0_nlhtrb3"
      }
    },
    {
      "cell_type": "code",
      "source": [
        "from sklearn.model_selection import train_test_split\n",
        "\n",
        "from sklearn.pipeline import Pipeline\n",
        "from sklearn import set_config\n",
        "set_config(display='diagram')\n",
        "\n",
        "from sklearn.compose import ColumnTransformer\n",
        "from sklearn.preprocessing import MinMaxScaler\n",
        "from sklearn.preprocessing import OneHotEncoder"
      ],
      "metadata": {
        "id": "3HTWGiVnttvk"
      },
      "execution_count": 10,
      "outputs": []
    },
    {
      "cell_type": "markdown",
      "source": [
        "##Imports for Performance Measures"
      ],
      "metadata": {
        "id": "rn8f239Rts_l"
      }
    },
    {
      "cell_type": "code",
      "source": [
        "from sklearn.metrics import confusion_matrix\n",
        "from sklearn.metrics import classification_report\n",
        "from sklearn.metrics import ConfusionMatrixDisplay"
      ],
      "metadata": {
        "id": "JnSoaCsRuCZs"
      },
      "execution_count": 11,
      "outputs": []
    },
    {
      "cell_type": "markdown",
      "source": [
        "##Acquire Data"
      ],
      "metadata": {
        "id": "-aPH3iemqi4q"
      }
    },
    {
      "cell_type": "code",
      "source": [
        "landsat_train, landsat_test = pd.read_csv('/content/gdrive/MyDrive/CS430/Module5/landsat_train.csv'), pd.read_csv('/content/gdrive/MyDrive/CS430/Module5/landsat_test.csv')"
      ],
      "metadata": {
        "id": "KTUXz8LmqiZw"
      },
      "execution_count": 12,
      "outputs": []
    },
    {
      "cell_type": "code",
      "source": [
        "landsat_train.head()"
      ],
      "metadata": {
        "colab": {
          "base_uri": "https://localhost:8080/",
          "height": 299
        },
        "id": "lQRh1lnGuQXy",
        "outputId": "a2e613bf-0014-4a9e-e7f3-6bffd6e5c505"
      },
      "execution_count": 13,
      "outputs": [
        {
          "output_type": "execute_result",
          "data": {
            "text/plain": [
              "   top_left_r  top_left_g  top_left_infra1  top_left_infra2  top_middle_r  \\\n",
              "0          92         115              120               94            84   \n",
              "1          84         102              106               79            84   \n",
              "2          84         102              102               83            80   \n",
              "3          80         102              102               79            84   \n",
              "4          84          94              102               79            80   \n",
              "\n",
              "   top_middle_g  top_middle_infra1  top_middle_infra2  top_right_r  \\\n",
              "0           102                106                 79           84   \n",
              "1           102                102                 83           80   \n",
              "2           102                102                 79           84   \n",
              "3            94                102                 79           80   \n",
              "4            94                 98                 76           80   \n",
              "\n",
              "   top_right_g  ...  bottom_left_infra2  bottom_middle_r  bottom_middle_g  \\\n",
              "0          102  ...                 104               88              121   \n",
              "1          102  ...                 100               84              107   \n",
              "2           94  ...                  87               84               99   \n",
              "3           94  ...                  79               84               99   \n",
              "4          102  ...                  79               84              103   \n",
              "\n",
              "   bottom_middle_infra1  bottom_middle_infra2  bottom_right_r  bottom_right_g  \\\n",
              "0                   128                   100              84             107   \n",
              "1                   113                    87              84              99   \n",
              "2                   104                    79              84              99   \n",
              "3                   104                    79              84             103   \n",
              "4                   104                    79              79             107   \n",
              "\n",
              "   bottom_right_infra1  bottom_right_infra2  land_type  \n",
              "0                  113                   87          3  \n",
              "1                  104                   79          3  \n",
              "2                  104                   79          3  \n",
              "3                  104                   79          3  \n",
              "4                  109                   87          3  \n",
              "\n",
              "[5 rows x 37 columns]"
            ],
            "text/html": [
              "\n",
              "  <div id=\"df-d7f3753e-b3f2-4883-9bf5-652bb3892d8b\">\n",
              "    <div class=\"colab-df-container\">\n",
              "      <div>\n",
              "<style scoped>\n",
              "    .dataframe tbody tr th:only-of-type {\n",
              "        vertical-align: middle;\n",
              "    }\n",
              "\n",
              "    .dataframe tbody tr th {\n",
              "        vertical-align: top;\n",
              "    }\n",
              "\n",
              "    .dataframe thead th {\n",
              "        text-align: right;\n",
              "    }\n",
              "</style>\n",
              "<table border=\"1\" class=\"dataframe\">\n",
              "  <thead>\n",
              "    <tr style=\"text-align: right;\">\n",
              "      <th></th>\n",
              "      <th>top_left_r</th>\n",
              "      <th>top_left_g</th>\n",
              "      <th>top_left_infra1</th>\n",
              "      <th>top_left_infra2</th>\n",
              "      <th>top_middle_r</th>\n",
              "      <th>top_middle_g</th>\n",
              "      <th>top_middle_infra1</th>\n",
              "      <th>top_middle_infra2</th>\n",
              "      <th>top_right_r</th>\n",
              "      <th>top_right_g</th>\n",
              "      <th>...</th>\n",
              "      <th>bottom_left_infra2</th>\n",
              "      <th>bottom_middle_r</th>\n",
              "      <th>bottom_middle_g</th>\n",
              "      <th>bottom_middle_infra1</th>\n",
              "      <th>bottom_middle_infra2</th>\n",
              "      <th>bottom_right_r</th>\n",
              "      <th>bottom_right_g</th>\n",
              "      <th>bottom_right_infra1</th>\n",
              "      <th>bottom_right_infra2</th>\n",
              "      <th>land_type</th>\n",
              "    </tr>\n",
              "  </thead>\n",
              "  <tbody>\n",
              "    <tr>\n",
              "      <th>0</th>\n",
              "      <td>92</td>\n",
              "      <td>115</td>\n",
              "      <td>120</td>\n",
              "      <td>94</td>\n",
              "      <td>84</td>\n",
              "      <td>102</td>\n",
              "      <td>106</td>\n",
              "      <td>79</td>\n",
              "      <td>84</td>\n",
              "      <td>102</td>\n",
              "      <td>...</td>\n",
              "      <td>104</td>\n",
              "      <td>88</td>\n",
              "      <td>121</td>\n",
              "      <td>128</td>\n",
              "      <td>100</td>\n",
              "      <td>84</td>\n",
              "      <td>107</td>\n",
              "      <td>113</td>\n",
              "      <td>87</td>\n",
              "      <td>3</td>\n",
              "    </tr>\n",
              "    <tr>\n",
              "      <th>1</th>\n",
              "      <td>84</td>\n",
              "      <td>102</td>\n",
              "      <td>106</td>\n",
              "      <td>79</td>\n",
              "      <td>84</td>\n",
              "      <td>102</td>\n",
              "      <td>102</td>\n",
              "      <td>83</td>\n",
              "      <td>80</td>\n",
              "      <td>102</td>\n",
              "      <td>...</td>\n",
              "      <td>100</td>\n",
              "      <td>84</td>\n",
              "      <td>107</td>\n",
              "      <td>113</td>\n",
              "      <td>87</td>\n",
              "      <td>84</td>\n",
              "      <td>99</td>\n",
              "      <td>104</td>\n",
              "      <td>79</td>\n",
              "      <td>3</td>\n",
              "    </tr>\n",
              "    <tr>\n",
              "      <th>2</th>\n",
              "      <td>84</td>\n",
              "      <td>102</td>\n",
              "      <td>102</td>\n",
              "      <td>83</td>\n",
              "      <td>80</td>\n",
              "      <td>102</td>\n",
              "      <td>102</td>\n",
              "      <td>79</td>\n",
              "      <td>84</td>\n",
              "      <td>94</td>\n",
              "      <td>...</td>\n",
              "      <td>87</td>\n",
              "      <td>84</td>\n",
              "      <td>99</td>\n",
              "      <td>104</td>\n",
              "      <td>79</td>\n",
              "      <td>84</td>\n",
              "      <td>99</td>\n",
              "      <td>104</td>\n",
              "      <td>79</td>\n",
              "      <td>3</td>\n",
              "    </tr>\n",
              "    <tr>\n",
              "      <th>3</th>\n",
              "      <td>80</td>\n",
              "      <td>102</td>\n",
              "      <td>102</td>\n",
              "      <td>79</td>\n",
              "      <td>84</td>\n",
              "      <td>94</td>\n",
              "      <td>102</td>\n",
              "      <td>79</td>\n",
              "      <td>80</td>\n",
              "      <td>94</td>\n",
              "      <td>...</td>\n",
              "      <td>79</td>\n",
              "      <td>84</td>\n",
              "      <td>99</td>\n",
              "      <td>104</td>\n",
              "      <td>79</td>\n",
              "      <td>84</td>\n",
              "      <td>103</td>\n",
              "      <td>104</td>\n",
              "      <td>79</td>\n",
              "      <td>3</td>\n",
              "    </tr>\n",
              "    <tr>\n",
              "      <th>4</th>\n",
              "      <td>84</td>\n",
              "      <td>94</td>\n",
              "      <td>102</td>\n",
              "      <td>79</td>\n",
              "      <td>80</td>\n",
              "      <td>94</td>\n",
              "      <td>98</td>\n",
              "      <td>76</td>\n",
              "      <td>80</td>\n",
              "      <td>102</td>\n",
              "      <td>...</td>\n",
              "      <td>79</td>\n",
              "      <td>84</td>\n",
              "      <td>103</td>\n",
              "      <td>104</td>\n",
              "      <td>79</td>\n",
              "      <td>79</td>\n",
              "      <td>107</td>\n",
              "      <td>109</td>\n",
              "      <td>87</td>\n",
              "      <td>3</td>\n",
              "    </tr>\n",
              "  </tbody>\n",
              "</table>\n",
              "<p>5 rows × 37 columns</p>\n",
              "</div>\n",
              "      <button class=\"colab-df-convert\" onclick=\"convertToInteractive('df-d7f3753e-b3f2-4883-9bf5-652bb3892d8b')\"\n",
              "              title=\"Convert this dataframe to an interactive table.\"\n",
              "              style=\"display:none;\">\n",
              "        \n",
              "  <svg xmlns=\"http://www.w3.org/2000/svg\" height=\"24px\"viewBox=\"0 0 24 24\"\n",
              "       width=\"24px\">\n",
              "    <path d=\"M0 0h24v24H0V0z\" fill=\"none\"/>\n",
              "    <path d=\"M18.56 5.44l.94 2.06.94-2.06 2.06-.94-2.06-.94-.94-2.06-.94 2.06-2.06.94zm-11 1L8.5 8.5l.94-2.06 2.06-.94-2.06-.94L8.5 2.5l-.94 2.06-2.06.94zm10 10l.94 2.06.94-2.06 2.06-.94-2.06-.94-.94-2.06-.94 2.06-2.06.94z\"/><path d=\"M17.41 7.96l-1.37-1.37c-.4-.4-.92-.59-1.43-.59-.52 0-1.04.2-1.43.59L10.3 9.45l-7.72 7.72c-.78.78-.78 2.05 0 2.83L4 21.41c.39.39.9.59 1.41.59.51 0 1.02-.2 1.41-.59l7.78-7.78 2.81-2.81c.8-.78.8-2.07 0-2.86zM5.41 20L4 18.59l7.72-7.72 1.47 1.35L5.41 20z\"/>\n",
              "  </svg>\n",
              "      </button>\n",
              "      \n",
              "  <style>\n",
              "    .colab-df-container {\n",
              "      display:flex;\n",
              "      flex-wrap:wrap;\n",
              "      gap: 12px;\n",
              "    }\n",
              "\n",
              "    .colab-df-convert {\n",
              "      background-color: #E8F0FE;\n",
              "      border: none;\n",
              "      border-radius: 50%;\n",
              "      cursor: pointer;\n",
              "      display: none;\n",
              "      fill: #1967D2;\n",
              "      height: 32px;\n",
              "      padding: 0 0 0 0;\n",
              "      width: 32px;\n",
              "    }\n",
              "\n",
              "    .colab-df-convert:hover {\n",
              "      background-color: #E2EBFA;\n",
              "      box-shadow: 0px 1px 2px rgba(60, 64, 67, 0.3), 0px 1px 3px 1px rgba(60, 64, 67, 0.15);\n",
              "      fill: #174EA6;\n",
              "    }\n",
              "\n",
              "    [theme=dark] .colab-df-convert {\n",
              "      background-color: #3B4455;\n",
              "      fill: #D2E3FC;\n",
              "    }\n",
              "\n",
              "    [theme=dark] .colab-df-convert:hover {\n",
              "      background-color: #434B5C;\n",
              "      box-shadow: 0px 1px 3px 1px rgba(0, 0, 0, 0.15);\n",
              "      filter: drop-shadow(0px 1px 2px rgba(0, 0, 0, 0.3));\n",
              "      fill: #FFFFFF;\n",
              "    }\n",
              "  </style>\n",
              "\n",
              "      <script>\n",
              "        const buttonEl =\n",
              "          document.querySelector('#df-d7f3753e-b3f2-4883-9bf5-652bb3892d8b button.colab-df-convert');\n",
              "        buttonEl.style.display =\n",
              "          google.colab.kernel.accessAllowed ? 'block' : 'none';\n",
              "\n",
              "        async function convertToInteractive(key) {\n",
              "          const element = document.querySelector('#df-d7f3753e-b3f2-4883-9bf5-652bb3892d8b');\n",
              "          const dataTable =\n",
              "            await google.colab.kernel.invokeFunction('convertToInteractive',\n",
              "                                                     [key], {});\n",
              "          if (!dataTable) return;\n",
              "\n",
              "          const docLinkHtml = 'Like what you see? Visit the ' +\n",
              "            '<a target=\"_blank\" href=https://colab.research.google.com/notebooks/data_table.ipynb>data table notebook</a>'\n",
              "            + ' to learn more about interactive tables.';\n",
              "          element.innerHTML = '';\n",
              "          dataTable['output_type'] = 'display_data';\n",
              "          await google.colab.output.renderOutput(dataTable, element);\n",
              "          const docLink = document.createElement('div');\n",
              "          docLink.innerHTML = docLinkHtml;\n",
              "          element.appendChild(docLink);\n",
              "        }\n",
              "      </script>\n",
              "    </div>\n",
              "  </div>\n",
              "  "
            ]
          },
          "metadata": {},
          "execution_count": 13
        }
      ]
    },
    {
      "cell_type": "code",
      "source": [
        "landsat_test.head()"
      ],
      "metadata": {
        "colab": {
          "base_uri": "https://localhost:8080/",
          "height": 299
        },
        "id": "gBIBIy03u1Ze",
        "outputId": "64c8945f-52ec-49ed-da6c-48691b3bbb43"
      },
      "execution_count": 14,
      "outputs": [
        {
          "output_type": "execute_result",
          "data": {
            "text/plain": [
              "   top_left_r  top_left_g  top_left_infra1  top_left_infra2  top_middle_r  \\\n",
              "0          80         102              102               79            76   \n",
              "1          76         102              102               79            76   \n",
              "2          80          98              106               79            76   \n",
              "3          76          94              102               76            76   \n",
              "4          76          94              102               76            76   \n",
              "\n",
              "   top_middle_g  top_middle_infra1  top_middle_infra2  top_right_r  \\\n",
              "0           102                102                 79           76   \n",
              "1           102                106                 83           76   \n",
              "2            94                102                 76           76   \n",
              "3            94                102                 76           76   \n",
              "4            94                102                 76           76   \n",
              "\n",
              "   top_right_g  ...  bottom_left_infra2  bottom_middle_r  bottom_middle_g  \\\n",
              "0          102  ...                  87               79              107   \n",
              "1          102  ...                  87               79              107   \n",
              "2           94  ...                  79               79               95   \n",
              "3           94  ...                  79               79               95   \n",
              "4           89  ...                  75               79               95   \n",
              "\n",
              "   bottom_middle_infra1  bottom_middle_infra2  bottom_right_r  bottom_right_g  \\\n",
              "0                   109                    87              79             107   \n",
              "1                   113                    87              79             103   \n",
              "2                   100                    79              79              95   \n",
              "3                    96                    75              79              95   \n",
              "4                   100                    75              75              95   \n",
              "\n",
              "   bottom_right_infra1  bottom_right_infra2  land_type  \n",
              "0                  113                   87          3  \n",
              "1                  104                   83          3  \n",
              "2                   96                   75          4  \n",
              "3                  100                   75          4  \n",
              "4                  100                   79          4  \n",
              "\n",
              "[5 rows x 37 columns]"
            ],
            "text/html": [
              "\n",
              "  <div id=\"df-4c6c7271-501e-489a-9c70-6eef1eb3e1ec\">\n",
              "    <div class=\"colab-df-container\">\n",
              "      <div>\n",
              "<style scoped>\n",
              "    .dataframe tbody tr th:only-of-type {\n",
              "        vertical-align: middle;\n",
              "    }\n",
              "\n",
              "    .dataframe tbody tr th {\n",
              "        vertical-align: top;\n",
              "    }\n",
              "\n",
              "    .dataframe thead th {\n",
              "        text-align: right;\n",
              "    }\n",
              "</style>\n",
              "<table border=\"1\" class=\"dataframe\">\n",
              "  <thead>\n",
              "    <tr style=\"text-align: right;\">\n",
              "      <th></th>\n",
              "      <th>top_left_r</th>\n",
              "      <th>top_left_g</th>\n",
              "      <th>top_left_infra1</th>\n",
              "      <th>top_left_infra2</th>\n",
              "      <th>top_middle_r</th>\n",
              "      <th>top_middle_g</th>\n",
              "      <th>top_middle_infra1</th>\n",
              "      <th>top_middle_infra2</th>\n",
              "      <th>top_right_r</th>\n",
              "      <th>top_right_g</th>\n",
              "      <th>...</th>\n",
              "      <th>bottom_left_infra2</th>\n",
              "      <th>bottom_middle_r</th>\n",
              "      <th>bottom_middle_g</th>\n",
              "      <th>bottom_middle_infra1</th>\n",
              "      <th>bottom_middle_infra2</th>\n",
              "      <th>bottom_right_r</th>\n",
              "      <th>bottom_right_g</th>\n",
              "      <th>bottom_right_infra1</th>\n",
              "      <th>bottom_right_infra2</th>\n",
              "      <th>land_type</th>\n",
              "    </tr>\n",
              "  </thead>\n",
              "  <tbody>\n",
              "    <tr>\n",
              "      <th>0</th>\n",
              "      <td>80</td>\n",
              "      <td>102</td>\n",
              "      <td>102</td>\n",
              "      <td>79</td>\n",
              "      <td>76</td>\n",
              "      <td>102</td>\n",
              "      <td>102</td>\n",
              "      <td>79</td>\n",
              "      <td>76</td>\n",
              "      <td>102</td>\n",
              "      <td>...</td>\n",
              "      <td>87</td>\n",
              "      <td>79</td>\n",
              "      <td>107</td>\n",
              "      <td>109</td>\n",
              "      <td>87</td>\n",
              "      <td>79</td>\n",
              "      <td>107</td>\n",
              "      <td>113</td>\n",
              "      <td>87</td>\n",
              "      <td>3</td>\n",
              "    </tr>\n",
              "    <tr>\n",
              "      <th>1</th>\n",
              "      <td>76</td>\n",
              "      <td>102</td>\n",
              "      <td>102</td>\n",
              "      <td>79</td>\n",
              "      <td>76</td>\n",
              "      <td>102</td>\n",
              "      <td>106</td>\n",
              "      <td>83</td>\n",
              "      <td>76</td>\n",
              "      <td>102</td>\n",
              "      <td>...</td>\n",
              "      <td>87</td>\n",
              "      <td>79</td>\n",
              "      <td>107</td>\n",
              "      <td>113</td>\n",
              "      <td>87</td>\n",
              "      <td>79</td>\n",
              "      <td>103</td>\n",
              "      <td>104</td>\n",
              "      <td>83</td>\n",
              "      <td>3</td>\n",
              "    </tr>\n",
              "    <tr>\n",
              "      <th>2</th>\n",
              "      <td>80</td>\n",
              "      <td>98</td>\n",
              "      <td>106</td>\n",
              "      <td>79</td>\n",
              "      <td>76</td>\n",
              "      <td>94</td>\n",
              "      <td>102</td>\n",
              "      <td>76</td>\n",
              "      <td>76</td>\n",
              "      <td>94</td>\n",
              "      <td>...</td>\n",
              "      <td>79</td>\n",
              "      <td>79</td>\n",
              "      <td>95</td>\n",
              "      <td>100</td>\n",
              "      <td>79</td>\n",
              "      <td>79</td>\n",
              "      <td>95</td>\n",
              "      <td>96</td>\n",
              "      <td>75</td>\n",
              "      <td>4</td>\n",
              "    </tr>\n",
              "    <tr>\n",
              "      <th>3</th>\n",
              "      <td>76</td>\n",
              "      <td>94</td>\n",
              "      <td>102</td>\n",
              "      <td>76</td>\n",
              "      <td>76</td>\n",
              "      <td>94</td>\n",
              "      <td>102</td>\n",
              "      <td>76</td>\n",
              "      <td>76</td>\n",
              "      <td>94</td>\n",
              "      <td>...</td>\n",
              "      <td>79</td>\n",
              "      <td>79</td>\n",
              "      <td>95</td>\n",
              "      <td>96</td>\n",
              "      <td>75</td>\n",
              "      <td>79</td>\n",
              "      <td>95</td>\n",
              "      <td>100</td>\n",
              "      <td>75</td>\n",
              "      <td>4</td>\n",
              "    </tr>\n",
              "    <tr>\n",
              "      <th>4</th>\n",
              "      <td>76</td>\n",
              "      <td>94</td>\n",
              "      <td>102</td>\n",
              "      <td>76</td>\n",
              "      <td>76</td>\n",
              "      <td>94</td>\n",
              "      <td>102</td>\n",
              "      <td>76</td>\n",
              "      <td>76</td>\n",
              "      <td>89</td>\n",
              "      <td>...</td>\n",
              "      <td>75</td>\n",
              "      <td>79</td>\n",
              "      <td>95</td>\n",
              "      <td>100</td>\n",
              "      <td>75</td>\n",
              "      <td>75</td>\n",
              "      <td>95</td>\n",
              "      <td>100</td>\n",
              "      <td>79</td>\n",
              "      <td>4</td>\n",
              "    </tr>\n",
              "  </tbody>\n",
              "</table>\n",
              "<p>5 rows × 37 columns</p>\n",
              "</div>\n",
              "      <button class=\"colab-df-convert\" onclick=\"convertToInteractive('df-4c6c7271-501e-489a-9c70-6eef1eb3e1ec')\"\n",
              "              title=\"Convert this dataframe to an interactive table.\"\n",
              "              style=\"display:none;\">\n",
              "        \n",
              "  <svg xmlns=\"http://www.w3.org/2000/svg\" height=\"24px\"viewBox=\"0 0 24 24\"\n",
              "       width=\"24px\">\n",
              "    <path d=\"M0 0h24v24H0V0z\" fill=\"none\"/>\n",
              "    <path d=\"M18.56 5.44l.94 2.06.94-2.06 2.06-.94-2.06-.94-.94-2.06-.94 2.06-2.06.94zm-11 1L8.5 8.5l.94-2.06 2.06-.94-2.06-.94L8.5 2.5l-.94 2.06-2.06.94zm10 10l.94 2.06.94-2.06 2.06-.94-2.06-.94-.94-2.06-.94 2.06-2.06.94z\"/><path d=\"M17.41 7.96l-1.37-1.37c-.4-.4-.92-.59-1.43-.59-.52 0-1.04.2-1.43.59L10.3 9.45l-7.72 7.72c-.78.78-.78 2.05 0 2.83L4 21.41c.39.39.9.59 1.41.59.51 0 1.02-.2 1.41-.59l7.78-7.78 2.81-2.81c.8-.78.8-2.07 0-2.86zM5.41 20L4 18.59l7.72-7.72 1.47 1.35L5.41 20z\"/>\n",
              "  </svg>\n",
              "      </button>\n",
              "      \n",
              "  <style>\n",
              "    .colab-df-container {\n",
              "      display:flex;\n",
              "      flex-wrap:wrap;\n",
              "      gap: 12px;\n",
              "    }\n",
              "\n",
              "    .colab-df-convert {\n",
              "      background-color: #E8F0FE;\n",
              "      border: none;\n",
              "      border-radius: 50%;\n",
              "      cursor: pointer;\n",
              "      display: none;\n",
              "      fill: #1967D2;\n",
              "      height: 32px;\n",
              "      padding: 0 0 0 0;\n",
              "      width: 32px;\n",
              "    }\n",
              "\n",
              "    .colab-df-convert:hover {\n",
              "      background-color: #E2EBFA;\n",
              "      box-shadow: 0px 1px 2px rgba(60, 64, 67, 0.3), 0px 1px 3px 1px rgba(60, 64, 67, 0.15);\n",
              "      fill: #174EA6;\n",
              "    }\n",
              "\n",
              "    [theme=dark] .colab-df-convert {\n",
              "      background-color: #3B4455;\n",
              "      fill: #D2E3FC;\n",
              "    }\n",
              "\n",
              "    [theme=dark] .colab-df-convert:hover {\n",
              "      background-color: #434B5C;\n",
              "      box-shadow: 0px 1px 3px 1px rgba(0, 0, 0, 0.15);\n",
              "      filter: drop-shadow(0px 1px 2px rgba(0, 0, 0, 0.3));\n",
              "      fill: #FFFFFF;\n",
              "    }\n",
              "  </style>\n",
              "\n",
              "      <script>\n",
              "        const buttonEl =\n",
              "          document.querySelector('#df-4c6c7271-501e-489a-9c70-6eef1eb3e1ec button.colab-df-convert');\n",
              "        buttonEl.style.display =\n",
              "          google.colab.kernel.accessAllowed ? 'block' : 'none';\n",
              "\n",
              "        async function convertToInteractive(key) {\n",
              "          const element = document.querySelector('#df-4c6c7271-501e-489a-9c70-6eef1eb3e1ec');\n",
              "          const dataTable =\n",
              "            await google.colab.kernel.invokeFunction('convertToInteractive',\n",
              "                                                     [key], {});\n",
              "          if (!dataTable) return;\n",
              "\n",
              "          const docLinkHtml = 'Like what you see? Visit the ' +\n",
              "            '<a target=\"_blank\" href=https://colab.research.google.com/notebooks/data_table.ipynb>data table notebook</a>'\n",
              "            + ' to learn more about interactive tables.';\n",
              "          element.innerHTML = '';\n",
              "          dataTable['output_type'] = 'display_data';\n",
              "          await google.colab.output.renderOutput(dataTable, element);\n",
              "          const docLink = document.createElement('div');\n",
              "          docLink.innerHTML = docLinkHtml;\n",
              "          element.appendChild(docLink);\n",
              "        }\n",
              "      </script>\n",
              "    </div>\n",
              "  </div>\n",
              "  "
            ]
          },
          "metadata": {},
          "execution_count": 14
        }
      ]
    },
    {
      "cell_type": "markdown",
      "source": [
        "##Statistics and Visual Exploration"
      ],
      "metadata": {
        "id": "Zqe0xLv21K2r"
      }
    },
    {
      "cell_type": "code",
      "source": [
        "landsat_train_grouping = landsat_train['land_type'].groupby(landsat_train['land_type']).count()\n",
        "landsat_test_grouping = landsat_test['land_type'].groupby(landsat_test['land_type']).count()"
      ],
      "metadata": {
        "id": "f-OLHb22u4Yh"
      },
      "execution_count": 15,
      "outputs": []
    },
    {
      "cell_type": "code",
      "source": [
        "landsat_train_grouping.plot(kind='bar', rot=0)"
      ],
      "metadata": {
        "colab": {
          "base_uri": "https://localhost:8080/",
          "height": 297
        },
        "id": "scJL0atKvvPc",
        "outputId": "07f4d134-bd95-4424-b6b0-efb2bf7453ca"
      },
      "execution_count": 16,
      "outputs": [
        {
          "output_type": "execute_result",
          "data": {
            "text/plain": [
              "<matplotlib.axes._subplots.AxesSubplot at 0x7f9b58f3cd50>"
            ]
          },
          "metadata": {},
          "execution_count": 16
        },
        {
          "output_type": "display_data",
          "data": {
            "text/plain": [
              "<Figure size 432x288 with 1 Axes>"
            ],
            "image/png": "[encoded data removed]"
          },
          "metadata": {
            "needs_background": "light"
          }
        }
      ]
    },
    {
      "cell_type": "code",
      "source": [
        "landsat_test_grouping.plot(kind='bar', rot=0, color='red')"
      ],
      "metadata": {
        "colab": {
          "base_uri": "https://localhost:8080/",
          "height": 297
        },
        "id": "N4LC0ZJWxFwz",
        "outputId": "0708bdf1-0691-4035-9d4d-7345f70f0940"
      },
      "execution_count": 17,
      "outputs": [
        {
          "output_type": "execute_result",
          "data": {
            "text/plain": [
              "<matplotlib.axes._subplots.AxesSubplot at 0x7f9b58e98510>"
            ]
          },
          "metadata": {},
          "execution_count": 17
        },
        {
          "output_type": "display_data",
          "data": {
            "text/plain": [
              "<Figure size 432x288 with 1 Axes>"
            ],
            "image/png": "[encoded data removed]"
          },
          "metadata": {
            "needs_background": "light"
          }
        }
      ]
    },
    {
      "cell_type": "markdown",
      "source": [
        "##Splitting Data into Train/Test"
      ],
      "metadata": {
        "id": "AUyFh2iV1Rv7"
      }
    },
    {
      "cell_type": "code",
      "source": [
        "X_train = landsat_train.iloc[:, :-1]\n",
        "X_test = landsat_test.iloc[:, :-1]\n",
        "\n",
        "y_train = landsat_train['land_type']\n",
        "y_test = landsat_test['land_type']"
      ],
      "metadata": {
        "id": "8pZ22AOAwzFf"
      },
      "execution_count": 18,
      "outputs": []
    },
    {
      "cell_type": "markdown",
      "source": [
        "##Building the Pipeline"
      ],
      "metadata": {
        "id": "3EqqLACT2xwH"
      }
    },
    {
      "cell_type": "code",
      "source": [
        "num_attributes = list(landsat_train.columns[:-1])\n",
        "\n",
        "col_transform = ColumnTransformer([\n",
        "                                  ('num', MinMaxScaler(), num_attributes),\n",
        "                            ])"
      ],
      "metadata": {
        "id": "cE_nnC8a21P6"
      },
      "execution_count": 19,
      "outputs": []
    },
    {
      "cell_type": "code",
      "source": [
        "pipeline = Pipeline([\n",
        "                    ('transfomer', col_transform),\n",
        "                    ('rf', RandomForestClassifier(n_estimators=1000, max_samples=1000, bootstrap=True))\n",
        "])"
      ],
      "metadata": {
        "id": "OXhSgTZ_5gDt"
      },
      "execution_count": 20,
      "outputs": []
    },
    {
      "cell_type": "markdown",
      "source": [
        "##Executing the Model"
      ],
      "metadata": {
        "id": "52IB22Y06rw3"
      }
    },
    {
      "cell_type": "code",
      "source": [
        "pipeline.fit(X_train, np.ravel(y_train))"
      ],
      "metadata": {
        "colab": {
          "base_uri": "https://localhost:8080/",
          "height": 192
        },
        "id": "FKvcQicJ6vGs",
        "outputId": "1e807796-91b6-4b05-a542-47e0886d16ee"
      },
      "execution_count": 21,
      "outputs": [
        {
          "output_type": "execute_result",
          "data": {
            "text/plain": [
              "Pipeline(steps=[('transfomer',\n",
              "                 ColumnTransformer(transformers=[('num', MinMaxScaler(),\n",
              "                                                  ['top_left_r', 'top_left_g',\n",
              "                                                   'top_left_infra1',\n",
              "                                                   'top_left_infra2',\n",
              "                                                   'top_middle_r',\n",
              "                                                   'top_middle_g',\n",
              "                                                   'top_middle_infra1',\n",
              "                                                   'top_middle_infra2',\n",
              "                                                   'top_right_r', 'top_right_g',\n",
              "                                                   'top_right_infra1',\n",
              "                                                   'top_right_infra2',\n",
              "                                                   'middle_left_r',\n",
              "                                                   'middle_left_g',\n",
              "                                                   'middle_left_infra1',\n",
              "                                                   'middle_left_infra2',\n",
              "                                                   'central_pixel_r',\n",
              "                                                   'central_pixel_g',\n",
              "                                                   'central_pixel_infra1',\n",
              "                                                   'central_pixel_infra2',\n",
              "                                                   'middle_right_r',\n",
              "                                                   'middle_right_g',\n",
              "                                                   'middle_right_infra1',\n",
              "                                                   'middle_right_infra2',\n",
              "                                                   'bottom_left_r',\n",
              "                                                   'bottom_left_g',\n",
              "                                                   'bottom_left_infra1',\n",
              "                                                   'bottom_left_infra2',\n",
              "                                                   'bottom_middle_r',\n",
              "                                                   'bottom_middle_g', ...])])),\n",
              "                ('rf',\n",
              "                 RandomForestClassifier(max_samples=1000, n_estimators=1000))])"
            ],
            "text/html": [
              "<style>#sk-880fe119-9da3-4071-a1db-fd10021bea79 {color: black;background-color: white;}#sk-880fe119-9da3-4071-a1db-fd10021bea79 pre{padding: 0;}#sk-880fe119-9da3-4071-a1db-fd10021bea79 div.sk-toggleable {background-color: white;}#sk-880fe119-9da3-4071-a1db-fd10021bea79 label.sk-toggleable__label {cursor: pointer;display: block;width: 100%;margin-bottom: 0;padding: 0.3em;box-sizing: border-box;text-align: center;}#sk-880fe119-9da3-4071-a1db-fd10021bea79 label.sk-toggleable__label-arrow:before {content: \"▸\";float: left;margin-right: 0.25em;color: #696969;}#sk-880fe119-9da3-4071-a1db-fd10021bea79 label.sk-toggleable__label-arrow:hover:before {color: black;}#sk-880fe119-9da3-4071-a1db-fd10021bea79 div.sk-estimator:hover label.sk-toggleable__label-arrow:before {color: black;}#sk-880fe119-9da3-4071-a1db-fd10021bea79 div.sk-toggleable__content {max-height: 0;max-width: 0;overflow: hidden;text-align: left;background-color: #f0f8ff;}#sk-880fe119-9da3-4071-a1db-fd10021bea79 div.sk-toggleable__content pre {margin: 0.2em;color: black;border-radius: 0.25em;background-color: #f0f8ff;}#sk-880fe119-9da3-4071-a1db-fd10021bea79 input.sk-toggleable__control:checked~div.sk-toggleable__content {max-height: 200px;max-width: 100%;overflow: auto;}#sk-880fe119-9da3-4071-a1db-fd10021bea79 input.sk-toggleable__control:checked~label.sk-toggleable__label-arrow:before {content: \"▾\";}#sk-880fe119-9da3-4071-a1db-fd10021bea79 div.sk-estimator input.sk-toggleable__control:checked~label.sk-toggleable__label {background-color: #d4ebff;}#sk-880fe119-9da3-4071-a1db-fd10021bea79 div.sk-label input.sk-toggleable__control:checked~label.sk-toggleable__label {background-color: #d4ebff;}#sk-880fe119-9da3-4071-a1db-fd10021bea79 input.sk-hidden--visually {border: 0;clip: rect(1px 1px 1px 1px);clip: rect(1px, 1px, 1px, 1px);height: 1px;margin: -1px;overflow: hidden;padding: 0;position: absolute;width: 1px;}#sk-880fe119-9da3-4071-a1db-fd10021bea79 div.sk-estimator {font-family: monospace;background-color: #f0f8ff;border: 1px dotted black;border-radius: 0.25em;box-sizing: border-box;margin-bottom: 0.5em;}#sk-880fe119-9da3-4071-a1db-fd10021bea79 div.sk-estimator:hover {background-color: #d4ebff;}#sk-880fe119-9da3-4071-a1db-fd10021bea79 div.sk-parallel-item::after {content: \"\";width: 100%;border-bottom: 1px solid gray;flex-grow: 1;}#sk-880fe119-9da3-4071-a1db-fd10021bea79 div.sk-label:hover label.sk-toggleable__label {background-color: #d4ebff;}#sk-880fe119-9da3-4071-a1db-fd10021bea79 div.sk-serial::before {content: \"\";position: absolute;border-left: 1px solid gray;box-sizing: border-box;top: 2em;bottom: 0;left: 50%;}#sk-880fe119-9da3-4071-a1db-fd10021bea79 div.sk-serial {display: flex;flex-direction: column;align-items: center;background-color: white;padding-right: 0.2em;padding-left: 0.2em;}#sk-880fe119-9da3-4071-a1db-fd10021bea79 div.sk-item {z-index: 1;}#sk-880fe119-9da3-4071-a1db-fd10021bea79 div.sk-parallel {display: flex;align-items: stretch;justify-content: center;background-color: white;}#sk-880fe119-9da3-4071-a1db-fd10021bea79 div.sk-parallel::before {content: \"\";position: absolute;border-left: 1px solid gray;box-sizing: border-box;top: 2em;bottom: 0;left: 50%;}#sk-880fe119-9da3-4071-a1db-fd10021bea79 div.sk-parallel-item {display: flex;flex-direction: column;position: relative;background-color: white;}#sk-880fe119-9da3-4071-a1db-fd10021bea79 div.sk-parallel-item:first-child::after {align-self: flex-end;width: 50%;}#sk-880fe119-9da3-4071-a1db-fd10021bea79 div.sk-parallel-item:last-child::after {align-self: flex-start;width: 50%;}#sk-880fe119-9da3-4071-a1db-fd10021bea79 div.sk-parallel-item:only-child::after {width: 0;}#sk-880fe119-9da3-4071-a1db-fd10021bea79 div.sk-dashed-wrapped {border: 1px dashed gray;margin: 0 0.4em 0.5em 0.4em;box-sizing: border-box;padding-bottom: 0.4em;background-color: white;position: relative;}#sk-880fe119-9da3-4071-a1db-fd10021bea79 div.sk-label label {font-family: monospace;font-weight: bold;background-color: white;display: inline-block;line-height: 1.2em;}#sk-880fe119-9da3-4071-a1db-fd10021bea79 div.sk-label-container {position: relative;z-index: 2;text-align: center;}#sk-880fe119-9da3-4071-a1db-fd10021bea79 div.sk-container {/* jupyter's `normalize.less` sets `[hidden] { display: none; }` but bootstrap.min.css set `[hidden] { display: none !important; }` so we also need the `!important` here to be able to override the default hidden behavior on the sphinx rendered scikit-learn.org. See: https://github.com/scikit-learn/scikit-learn/issues/21755 */display: inline-block !important;position: relative;}#sk-880fe119-9da3-4071-a1db-fd10021bea79 div.sk-text-repr-fallback {display: none;}</style><div id=\"sk-880fe119-9da3-4071-a1db-fd10021bea79\" class=\"sk-top-container\"><div class=\"sk-text-repr-fallback\"><pre>Pipeline(steps=[(&#x27;transfomer&#x27;,\n",
              "                 ColumnTransformer(transformers=[(&#x27;num&#x27;, MinMaxScaler(),\n",
              "                                                  [&#x27;top_left_r&#x27;, &#x27;top_left_g&#x27;,\n",
              "                                                   &#x27;top_left_infra1&#x27;,\n",
              "                                                   &#x27;top_left_infra2&#x27;,\n",
              "                                                   &#x27;top_middle_r&#x27;,\n",
              "                                                   &#x27;top_middle_g&#x27;,\n",
              "                                                   &#x27;top_middle_infra1&#x27;,\n",
              "                                                   &#x27;top_middle_infra2&#x27;,\n",
              "                                                   &#x27;top_right_r&#x27;, &#x27;top_right_g&#x27;,\n",
              "                                                   &#x27;top_right_infra1&#x27;,\n",
              "                                                   &#x27;top_right_infra2&#x27;,\n",
              "                                                   &#x27;middle_left_r&#x27;,\n",
              "                                                   &#x27;middle_left_g&#x27;,\n",
              "                                                   &#x27;middle_left_infra1&#x27;,\n",
              "                                                   &#x27;middle_left_infra2&#x27;,\n",
              "                                                   &#x27;central_pixel_r&#x27;,\n",
              "                                                   &#x27;central_pixel_g&#x27;,\n",
              "                                                   &#x27;central_pixel_infra1&#x27;,\n",
              "                                                   &#x27;central_pixel_infra2&#x27;,\n",
              "                                                   &#x27;middle_right_r&#x27;,\n",
              "                                                   &#x27;middle_right_g&#x27;,\n",
              "                                                   &#x27;middle_right_infra1&#x27;,\n",
              "                                                   &#x27;middle_right_infra2&#x27;,\n",
              "                                                   &#x27;bottom_left_r&#x27;,\n",
              "                                                   &#x27;bottom_left_g&#x27;,\n",
              "                                                   &#x27;bottom_left_infra1&#x27;,\n",
              "                                                   &#x27;bottom_left_infra2&#x27;,\n",
              "                                                   &#x27;bottom_middle_r&#x27;,\n",
              "                                                   &#x27;bottom_middle_g&#x27;, ...])])),\n",
              "                (&#x27;rf&#x27;,\n",
              "                 RandomForestClassifier(max_samples=1000, n_estimators=1000))])</pre><b>Please rerun this cell to show the HTML repr or trust the notebook.</b></div><div class=\"sk-container\" hidden><div class=\"sk-item sk-dashed-wrapped\"><div class=\"sk-label-container\"><div class=\"sk-label sk-toggleable\"><input class=\"sk-toggleable__control sk-hidden--visually\" id=\"216efba6-794a-4621-b611-d7d8eedb7da8\" type=\"checkbox\" ><label for=\"216efba6-794a-4621-b611-d7d8eedb7da8\" class=\"sk-toggleable__label sk-toggleable__label-arrow\">Pipeline</label><div class=\"sk-toggleable__content\"><pre>Pipeline(steps=[(&#x27;transfomer&#x27;,\n",
              "                 ColumnTransformer(transformers=[(&#x27;num&#x27;, MinMaxScaler(),\n",
              "                                                  [&#x27;top_left_r&#x27;, &#x27;top_left_g&#x27;,\n",
              "                                                   &#x27;top_left_infra1&#x27;,\n",
              "                                                   &#x27;top_left_infra2&#x27;,\n",
              "                                                   &#x27;top_middle_r&#x27;,\n",
              "                                                   &#x27;top_middle_g&#x27;,\n",
              "                                                   &#x27;top_middle_infra1&#x27;,\n",
              "                                                   &#x27;top_middle_infra2&#x27;,\n",
              "                                                   &#x27;top_right_r&#x27;, &#x27;top_right_g&#x27;,\n",
              "                                                   &#x27;top_right_infra1&#x27;,\n",
              "                                                   &#x27;top_right_infra2&#x27;,\n",
              "                                                   &#x27;middle_left_r&#x27;,\n",
              "                                                   &#x27;middle_left_g&#x27;,\n",
              "                                                   &#x27;middle_left_infra1&#x27;,\n",
              "                                                   &#x27;middle_left_infra2&#x27;,\n",
              "                                                   &#x27;central_pixel_r&#x27;,\n",
              "                                                   &#x27;central_pixel_g&#x27;,\n",
              "                                                   &#x27;central_pixel_infra1&#x27;,\n",
              "                                                   &#x27;central_pixel_infra2&#x27;,\n",
              "                                                   &#x27;middle_right_r&#x27;,\n",
              "                                                   &#x27;middle_right_g&#x27;,\n",
              "                                                   &#x27;middle_right_infra1&#x27;,\n",
              "                                                   &#x27;middle_right_infra2&#x27;,\n",
              "                                                   &#x27;bottom_left_r&#x27;,\n",
              "                                                   &#x27;bottom_left_g&#x27;,\n",
              "                                                   &#x27;bottom_left_infra1&#x27;,\n",
              "                                                   &#x27;bottom_left_infra2&#x27;,\n",
              "                                                   &#x27;bottom_middle_r&#x27;,\n",
              "                                                   &#x27;bottom_middle_g&#x27;, ...])])),\n",
              "                (&#x27;rf&#x27;,\n",
              "                 RandomForestClassifier(max_samples=1000, n_estimators=1000))])</pre></div></div></div><div class=\"sk-serial\"><div class=\"sk-item sk-dashed-wrapped\"><div class=\"sk-label-container\"><div class=\"sk-label sk-toggleable\"><input class=\"sk-toggleable__control sk-hidden--visually\" id=\"bfa3f749-4d6e-49b3-a7a6-96f67f9a39c4\" type=\"checkbox\" ><label for=\"bfa3f749-4d6e-49b3-a7a6-96f67f9a39c4\" class=\"sk-toggleable__label sk-toggleable__label-arrow\">transfomer: ColumnTransformer</label><div class=\"sk-toggleable__content\"><pre>ColumnTransformer(transformers=[(&#x27;num&#x27;, MinMaxScaler(),\n",
              "                                 [&#x27;top_left_r&#x27;, &#x27;top_left_g&#x27;, &#x27;top_left_infra1&#x27;,\n",
              "                                  &#x27;top_left_infra2&#x27;, &#x27;top_middle_r&#x27;,\n",
              "                                  &#x27;top_middle_g&#x27;, &#x27;top_middle_infra1&#x27;,\n",
              "                                  &#x27;top_middle_infra2&#x27;, &#x27;top_right_r&#x27;,\n",
              "                                  &#x27;top_right_g&#x27;, &#x27;top_right_infra1&#x27;,\n",
              "                                  &#x27;top_right_infra2&#x27;, &#x27;middle_left_r&#x27;,\n",
              "                                  &#x27;middle_left_g&#x27;, &#x27;middle_left_infra1&#x27;,\n",
              "                                  &#x27;middle_left_infra2&#x27;, &#x27;central_pixel_r&#x27;,\n",
              "                                  &#x27;central_pixel_g&#x27;, &#x27;central_pixel_infra1&#x27;,\n",
              "                                  &#x27;central_pixel_infra2&#x27;, &#x27;middle_right_r&#x27;,\n",
              "                                  &#x27;middle_right_g&#x27;, &#x27;middle_right_infra1&#x27;,\n",
              "                                  &#x27;middle_right_infra2&#x27;, &#x27;bottom_left_r&#x27;,\n",
              "                                  &#x27;bottom_left_g&#x27;, &#x27;bottom_left_infra1&#x27;,\n",
              "                                  &#x27;bottom_left_infra2&#x27;, &#x27;bottom_middle_r&#x27;,\n",
              "                                  &#x27;bottom_middle_g&#x27;, ...])])</pre></div></div></div><div class=\"sk-parallel\"><div class=\"sk-parallel-item\"><div class=\"sk-item\"><div class=\"sk-label-container\"><div class=\"sk-label sk-toggleable\"><input class=\"sk-toggleable__control sk-hidden--visually\" id=\"f509ad9b-f5b2-4b27-a565-7325c69ed056\" type=\"checkbox\" ><label for=\"f509ad9b-f5b2-4b27-a565-7325c69ed056\" class=\"sk-toggleable__label sk-toggleable__label-arrow\">num</label><div class=\"sk-toggleable__content\"><pre>[&#x27;top_left_r&#x27;, &#x27;top_left_g&#x27;, &#x27;top_left_infra1&#x27;, &#x27;top_left_infra2&#x27;, &#x27;top_middle_r&#x27;, &#x27;top_middle_g&#x27;, &#x27;top_middle_infra1&#x27;, &#x27;top_middle_infra2&#x27;, &#x27;top_right_r&#x27;, &#x27;top_right_g&#x27;, &#x27;top_right_infra1&#x27;, &#x27;top_right_infra2&#x27;, &#x27;middle_left_r&#x27;, &#x27;middle_left_g&#x27;, &#x27;middle_left_infra1&#x27;, &#x27;middle_left_infra2&#x27;, &#x27;central_pixel_r&#x27;, &#x27;central_pixel_g&#x27;, &#x27;central_pixel_infra1&#x27;, &#x27;central_pixel_infra2&#x27;, &#x27;middle_right_r&#x27;, &#x27;middle_right_g&#x27;, &#x27;middle_right_infra1&#x27;, &#x27;middle_right_infra2&#x27;, &#x27;bottom_left_r&#x27;, &#x27;bottom_left_g&#x27;, &#x27;bottom_left_infra1&#x27;, &#x27;bottom_left_infra2&#x27;, &#x27;bottom_middle_r&#x27;, &#x27;bottom_middle_g&#x27;, &#x27;bottom_middle_infra1&#x27;, &#x27;bottom_middle_infra2&#x27;, &#x27;bottom_right_r&#x27;, &#x27;bottom_right_g&#x27;, &#x27;bottom_right_infra1&#x27;, &#x27;bottom_right_infra2&#x27;]</pre></div></div></div><div class=\"sk-serial\"><div class=\"sk-item\"><div class=\"sk-estimator sk-toggleable\"><input class=\"sk-toggleable__control sk-hidden--visually\" id=\"e98baea5-3484-4007-b195-cc565968382e\" type=\"checkbox\" ><label for=\"e98baea5-3484-4007-b195-cc565968382e\" class=\"sk-toggleable__label sk-toggleable__label-arrow\">MinMaxScaler</label><div class=\"sk-toggleable__content\"><pre>MinMaxScaler()</pre></div></div></div></div></div></div></div></div><div class=\"sk-item\"><div class=\"sk-estimator sk-toggleable\"><input class=\"sk-toggleable__control sk-hidden--visually\" id=\"8d305ccc-74fc-441a-9e73-7c7f36edd1f3\" type=\"checkbox\" ><label for=\"8d305ccc-74fc-441a-9e73-7c7f36edd1f3\" class=\"sk-toggleable__label sk-toggleable__label-arrow\">RandomForestClassifier</label><div class=\"sk-toggleable__content\"><pre>RandomForestClassifier(max_samples=1000, n_estimators=1000)</pre></div></div></div></div></div></div></div>"
            ]
          },
          "metadata": {},
          "execution_count": 21
        }
      ]
    },
    {
      "cell_type": "markdown",
      "source": [
        "##Evaluating the Model"
      ],
      "metadata": {
        "id": "wveMnU0M85I5"
      }
    },
    {
      "cell_type": "code",
      "source": [
        "y_pred = pipeline.predict(X_test)"
      ],
      "metadata": {
        "id": "abPRFlIp87n5"
      },
      "execution_count": 22,
      "outputs": []
    },
    {
      "cell_type": "code",
      "source": [
        "print(classification_report(y_test, y_pred))"
      ],
      "metadata": {
        "colab": {
          "base_uri": "https://localhost:8080/"
        },
        "id": "RlgzLvSO9Lo8",
        "outputId": "513126ac-154e-40e2-e7c2-12a619f28160"
      },
      "execution_count": 23,
      "outputs": [
        {
          "output_type": "stream",
          "name": "stdout",
          "text": [
            "              precision    recall  f1-score   support\n",
            "\n",
            "           1       0.95      0.99      0.97       461\n",
            "           2       0.98      0.97      0.98       224\n",
            "           3       0.86      0.95      0.90       397\n",
            "           4       0.74      0.60      0.66       211\n",
            "           5       0.91      0.81      0.86       237\n",
            "           7       0.85      0.88      0.86       470\n",
            "\n",
            "    accuracy                           0.89      2000\n",
            "   macro avg       0.88      0.86      0.87      2000\n",
            "weighted avg       0.89      0.89      0.89      2000\n",
            "\n"
          ]
        }
      ]
    },
    {
      "cell_type": "code",
      "source": [
        "cm = confusion_matrix(y_test, y_pred)\n",
        "disp = ConfusionMatrixDisplay(confusion_matrix=cm)\n",
        "\n",
        "fig, ax = plt.subplots(figsize=(10,10))\n",
        "disp.plot(ax=ax, cmap='YlOrRd')"
      ],
      "metadata": {
        "colab": {
          "base_uri": "https://localhost:8080/",
          "height": 597
        },
        "id": "xDgM8xPw9kRK",
        "outputId": "47c7255d-7c86-4d07-e91d-2dfa397cfbfc"
      },
      "execution_count": 24,
      "outputs": [
        {
          "output_type": "execute_result",
          "data": {
            "text/plain": [
              "<sklearn.metrics._plot.confusion_matrix.ConfusionMatrixDisplay at 0x7f9b588af6d0>"
            ]
          },
          "metadata": {},
          "execution_count": 24
        },
        {
          "output_type": "display_data",
          "data": {
            "text/plain": [
              "<Figure size 720x720 with 2 Axes>"
            ],
            "image/png": "[encoded data removed]"
          },
          "metadata": {
            "needs_background": "light"
          }
        }
      ]
    },
    {
      "cell_type": "markdown",
      "source": [
        "##Conclusion\n",
        "This model does a poor a job with classification 4, which kind of make sense intuitively since it’s the class with the fewest instances to train on. The model does a great job overall at predicting the classes that had the most instances to be trained on, in other words the classes that shows up the most in the dataset. We can say that this model is suitable for predicting land type accurately expect for land type 4 but this can be remedied with more instance of land type 4 introduced into the dataset and retraining the model."
      ],
      "metadata": {
        "id": "b3rj3ZcB-Bma"
      }
    },
    {
      "cell_type": "markdown",
      "source": [
        "##**Problem 2**"
      ],
      "metadata": {
        "id": "cu0eKaCY39dF"
      }
    },
    {
      "cell_type": "code",
      "source": [
        "knn = KNeighborsClassifier(n_neighbors=3)\n",
        "lr = LogisticRegression(max_iter=100_000)\n",
        "svc = SVC(kernel='rbf')"
      ],
      "metadata": {
        "id": "2obm8Wdo4EBl"
      },
      "execution_count": 25,
      "outputs": []
    },
    {
      "cell_type": "markdown",
      "source": [
        "##Building the Pipeline"
      ],
      "metadata": {
        "id": "IdZmQidX7Fy-"
      }
    },
    {
      "cell_type": "code",
      "source": [
        "pipeline = Pipeline([\n",
        "                    ('transformer', col_transform),\n",
        "                    ('voting_ensemble', VotingClassifier(estimators=[('knn', knn),\n",
        "                                                                     ('lr', lr),\n",
        "                                                                     ('svc', svc)]))\n",
        "      ])"
      ],
      "metadata": {
        "id": "sUAXcIxu7E1k"
      },
      "execution_count": 26,
      "outputs": []
    },
    {
      "cell_type": "markdown",
      "source": [
        "##Executing the Model"
      ],
      "metadata": {
        "id": "5xu4a5X18qRo"
      }
    },
    {
      "cell_type": "code",
      "source": [
        "pipeline.fit(X_train, np.ravel(y_train))"
      ],
      "metadata": {
        "colab": {
          "base_uri": "https://localhost:8080/",
          "height": 250
        },
        "id": "BzcJ_nH98q6c",
        "outputId": "8108128c-08b9-401c-e1ba-1e4ac59bd50e"
      },
      "execution_count": 27,
      "outputs": [
        {
          "output_type": "execute_result",
          "data": {
            "text/plain": [
              "Pipeline(steps=[('transformer',\n",
              "                 ColumnTransformer(transformers=[('num', MinMaxScaler(),\n",
              "                                                  ['top_left_r', 'top_left_g',\n",
              "                                                   'top_left_infra1',\n",
              "                                                   'top_left_infra2',\n",
              "                                                   'top_middle_r',\n",
              "                                                   'top_middle_g',\n",
              "                                                   'top_middle_infra1',\n",
              "                                                   'top_middle_infra2',\n",
              "                                                   'top_right_r', 'top_right_g',\n",
              "                                                   'top_right_infra1',\n",
              "                                                   'top_right_infra2',\n",
              "                                                   'middle_left_r',\n",
              "                                                   'middle_left_g',\n",
              "                                                   'middle_left_infra1',\n",
              "                                                   'middle_left_...\n",
              "                                                   'middle_right_r',\n",
              "                                                   'middle_right_g',\n",
              "                                                   'middle_right_infra1',\n",
              "                                                   'middle_right_infra2',\n",
              "                                                   'bottom_left_r',\n",
              "                                                   'bottom_left_g',\n",
              "                                                   'bottom_left_infra1',\n",
              "                                                   'bottom_left_infra2',\n",
              "                                                   'bottom_middle_r',\n",
              "                                                   'bottom_middle_g', ...])])),\n",
              "                ('voting_ensemble',\n",
              "                 VotingClassifier(estimators=[('knn',\n",
              "                                               KNeighborsClassifier(n_neighbors=3)),\n",
              "                                              ('lr',\n",
              "                                               LogisticRegression(max_iter=100000)),\n",
              "                                              ('svc', SVC())]))])"
            ],
            "text/html": [
              "<style>#sk-cd939ccc-581b-4baf-8e58-69418ec473e9 {color: black;background-color: white;}#sk-cd939ccc-581b-4baf-8e58-69418ec473e9 pre{padding: 0;}#sk-cd939ccc-581b-4baf-8e58-69418ec473e9 div.sk-toggleable {background-color: white;}#sk-cd939ccc-581b-4baf-8e58-69418ec473e9 label.sk-toggleable__label {cursor: pointer;display: block;width: 100%;margin-bottom: 0;padding: 0.3em;box-sizing: border-box;text-align: center;}#sk-cd939ccc-581b-4baf-8e58-69418ec473e9 label.sk-toggleable__label-arrow:before {content: \"▸\";float: left;margin-right: 0.25em;color: #696969;}#sk-cd939ccc-581b-4baf-8e58-69418ec473e9 label.sk-toggleable__label-arrow:hover:before {color: black;}#sk-cd939ccc-581b-4baf-8e58-69418ec473e9 div.sk-estimator:hover label.sk-toggleable__label-arrow:before {color: black;}#sk-cd939ccc-581b-4baf-8e58-69418ec473e9 div.sk-toggleable__content {max-height: 0;max-width: 0;overflow: hidden;text-align: left;background-color: #f0f8ff;}#sk-cd939ccc-581b-4baf-8e58-69418ec473e9 div.sk-toggleable__content pre {margin: 0.2em;color: black;border-radius: 0.25em;background-color: #f0f8ff;}#sk-cd939ccc-581b-4baf-8e58-69418ec473e9 input.sk-toggleable__control:checked~div.sk-toggleable__content {max-height: 200px;max-width: 100%;overflow: auto;}#sk-cd939ccc-581b-4baf-8e58-69418ec473e9 input.sk-toggleable__control:checked~label.sk-toggleable__label-arrow:before {content: \"▾\";}#sk-cd939ccc-581b-4baf-8e58-69418ec473e9 div.sk-estimator input.sk-toggleable__control:checked~label.sk-toggleable__label {background-color: #d4ebff;}#sk-cd939ccc-581b-4baf-8e58-69418ec473e9 div.sk-label input.sk-toggleable__control:checked~label.sk-toggleable__label {background-color: #d4ebff;}#sk-cd939ccc-581b-4baf-8e58-69418ec473e9 input.sk-hidden--visually {border: 0;clip: rect(1px 1px 1px 1px);clip: rect(1px, 1px, 1px, 1px);height: 1px;margin: -1px;overflow: hidden;padding: 0;position: absolute;width: 1px;}#sk-cd939ccc-581b-4baf-8e58-69418ec473e9 div.sk-estimator {font-family: monospace;background-color: #f0f8ff;border: 1px dotted black;border-radius: 0.25em;box-sizing: border-box;margin-bottom: 0.5em;}#sk-cd939ccc-581b-4baf-8e58-69418ec473e9 div.sk-estimator:hover {background-color: #d4ebff;}#sk-cd939ccc-581b-4baf-8e58-69418ec473e9 div.sk-parallel-item::after {content: \"\";width: 100%;border-bottom: 1px solid gray;flex-grow: 1;}#sk-cd939ccc-581b-4baf-8e58-69418ec473e9 div.sk-label:hover label.sk-toggleable__label {background-color: #d4ebff;}#sk-cd939ccc-581b-4baf-8e58-69418ec473e9 div.sk-serial::before {content: \"\";position: absolute;border-left: 1px solid gray;box-sizing: border-box;top: 2em;bottom: 0;left: 50%;}#sk-cd939ccc-581b-4baf-8e58-69418ec473e9 div.sk-serial {display: flex;flex-direction: column;align-items: center;background-color: white;padding-right: 0.2em;padding-left: 0.2em;}#sk-cd939ccc-581b-4baf-8e58-69418ec473e9 div.sk-item {z-index: 1;}#sk-cd939ccc-581b-4baf-8e58-69418ec473e9 div.sk-parallel {display: flex;align-items: stretch;justify-content: center;background-color: white;}#sk-cd939ccc-581b-4baf-8e58-69418ec473e9 div.sk-parallel::before {content: \"\";position: absolute;border-left: 1px solid gray;box-sizing: border-box;top: 2em;bottom: 0;left: 50%;}#sk-cd939ccc-581b-4baf-8e58-69418ec473e9 div.sk-parallel-item {display: flex;flex-direction: column;position: relative;background-color: white;}#sk-cd939ccc-581b-4baf-8e58-69418ec473e9 div.sk-parallel-item:first-child::after {align-self: flex-end;width: 50%;}#sk-cd939ccc-581b-4baf-8e58-69418ec473e9 div.sk-parallel-item:last-child::after {align-self: flex-start;width: 50%;}#sk-cd939ccc-581b-4baf-8e58-69418ec473e9 div.sk-parallel-item:only-child::after {width: 0;}#sk-cd939ccc-581b-4baf-8e58-69418ec473e9 div.sk-dashed-wrapped {border: 1px dashed gray;margin: 0 0.4em 0.5em 0.4em;box-sizing: border-box;padding-bottom: 0.4em;background-color: white;position: relative;}#sk-cd939ccc-581b-4baf-8e58-69418ec473e9 div.sk-label label {font-family: monospace;font-weight: bold;background-color: white;display: inline-block;line-height: 1.2em;}#sk-cd939ccc-581b-4baf-8e58-69418ec473e9 div.sk-label-container {position: relative;z-index: 2;text-align: center;}#sk-cd939ccc-581b-4baf-8e58-69418ec473e9 div.sk-container {/* jupyter's `normalize.less` sets `[hidden] { display: none; }` but bootstrap.min.css set `[hidden] { display: none !important; }` so we also need the `!important` here to be able to override the default hidden behavior on the sphinx rendered scikit-learn.org. See: https://github.com/scikit-learn/scikit-learn/issues/21755 */display: inline-block !important;position: relative;}#sk-cd939ccc-581b-4baf-8e58-69418ec473e9 div.sk-text-repr-fallback {display: none;}</style><div id=\"sk-cd939ccc-581b-4baf-8e58-69418ec473e9\" class=\"sk-top-container\"><div class=\"sk-text-repr-fallback\"><pre>Pipeline(steps=[(&#x27;transformer&#x27;,\n",
              "                 ColumnTransformer(transformers=[(&#x27;num&#x27;, MinMaxScaler(),\n",
              "                                                  [&#x27;top_left_r&#x27;, &#x27;top_left_g&#x27;,\n",
              "                                                   &#x27;top_left_infra1&#x27;,\n",
              "                                                   &#x27;top_left_infra2&#x27;,\n",
              "                                                   &#x27;top_middle_r&#x27;,\n",
              "                                                   &#x27;top_middle_g&#x27;,\n",
              "                                                   &#x27;top_middle_infra1&#x27;,\n",
              "                                                   &#x27;top_middle_infra2&#x27;,\n",
              "                                                   &#x27;top_right_r&#x27;, &#x27;top_right_g&#x27;,\n",
              "                                                   &#x27;top_right_infra1&#x27;,\n",
              "                                                   &#x27;top_right_infra2&#x27;,\n",
              "                                                   &#x27;middle_left_r&#x27;,\n",
              "                                                   &#x27;middle_left_g&#x27;,\n",
              "                                                   &#x27;middle_left_infra1&#x27;,\n",
              "                                                   &#x27;middle_left_...\n",
              "                                                   &#x27;middle_right_r&#x27;,\n",
              "                                                   &#x27;middle_right_g&#x27;,\n",
              "                                                   &#x27;middle_right_infra1&#x27;,\n",
              "                                                   &#x27;middle_right_infra2&#x27;,\n",
              "                                                   &#x27;bottom_left_r&#x27;,\n",
              "                                                   &#x27;bottom_left_g&#x27;,\n",
              "                                                   &#x27;bottom_left_infra1&#x27;,\n",
              "                                                   &#x27;bottom_left_infra2&#x27;,\n",
              "                                                   &#x27;bottom_middle_r&#x27;,\n",
              "                                                   &#x27;bottom_middle_g&#x27;, ...])])),\n",
              "                (&#x27;voting_ensemble&#x27;,\n",
              "                 VotingClassifier(estimators=[(&#x27;knn&#x27;,\n",
              "                                               KNeighborsClassifier(n_neighbors=3)),\n",
              "                                              (&#x27;lr&#x27;,\n",
              "                                               LogisticRegression(max_iter=100000)),\n",
              "                                              (&#x27;svc&#x27;, SVC())]))])</pre><b>Please rerun this cell to show the HTML repr or trust the notebook.</b></div><div class=\"sk-container\" hidden><div class=\"sk-item sk-dashed-wrapped\"><div class=\"sk-label-container\"><div class=\"sk-label sk-toggleable\"><input class=\"sk-toggleable__control sk-hidden--visually\" id=\"1ed9b922-edea-4089-9a07-0c7ab413c6fa\" type=\"checkbox\" ><label for=\"1ed9b922-edea-4089-9a07-0c7ab413c6fa\" class=\"sk-toggleable__label sk-toggleable__label-arrow\">Pipeline</label><div class=\"sk-toggleable__content\"><pre>Pipeline(steps=[(&#x27;transformer&#x27;,\n",
              "                 ColumnTransformer(transformers=[(&#x27;num&#x27;, MinMaxScaler(),\n",
              "                                                  [&#x27;top_left_r&#x27;, &#x27;top_left_g&#x27;,\n",
              "                                                   &#x27;top_left_infra1&#x27;,\n",
              "                                                   &#x27;top_left_infra2&#x27;,\n",
              "                                                   &#x27;top_middle_r&#x27;,\n",
              "                                                   &#x27;top_middle_g&#x27;,\n",
              "                                                   &#x27;top_middle_infra1&#x27;,\n",
              "                                                   &#x27;top_middle_infra2&#x27;,\n",
              "                                                   &#x27;top_right_r&#x27;, &#x27;top_right_g&#x27;,\n",
              "                                                   &#x27;top_right_infra1&#x27;,\n",
              "                                                   &#x27;top_right_infra2&#x27;,\n",
              "                                                   &#x27;middle_left_r&#x27;,\n",
              "                                                   &#x27;middle_left_g&#x27;,\n",
              "                                                   &#x27;middle_left_infra1&#x27;,\n",
              "                                                   &#x27;middle_left_...\n",
              "                                                   &#x27;middle_right_r&#x27;,\n",
              "                                                   &#x27;middle_right_g&#x27;,\n",
              "                                                   &#x27;middle_right_infra1&#x27;,\n",
              "                                                   &#x27;middle_right_infra2&#x27;,\n",
              "                                                   &#x27;bottom_left_r&#x27;,\n",
              "                                                   &#x27;bottom_left_g&#x27;,\n",
              "                                                   &#x27;bottom_left_infra1&#x27;,\n",
              "                                                   &#x27;bottom_left_infra2&#x27;,\n",
              "                                                   &#x27;bottom_middle_r&#x27;,\n",
              "                                                   &#x27;bottom_middle_g&#x27;, ...])])),\n",
              "                (&#x27;voting_ensemble&#x27;,\n",
              "                 VotingClassifier(estimators=[(&#x27;knn&#x27;,\n",
              "                                               KNeighborsClassifier(n_neighbors=3)),\n",
              "                                              (&#x27;lr&#x27;,\n",
              "                                               LogisticRegression(max_iter=100000)),\n",
              "                                              (&#x27;svc&#x27;, SVC())]))])</pre></div></div></div><div class=\"sk-serial\"><div class=\"sk-item sk-dashed-wrapped\"><div class=\"sk-label-container\"><div class=\"sk-label sk-toggleable\"><input class=\"sk-toggleable__control sk-hidden--visually\" id=\"51bd8903-fbce-4700-b3a3-6a99e1d736d9\" type=\"checkbox\" ><label for=\"51bd8903-fbce-4700-b3a3-6a99e1d736d9\" class=\"sk-toggleable__label sk-toggleable__label-arrow\">transformer: ColumnTransformer</label><div class=\"sk-toggleable__content\"><pre>ColumnTransformer(transformers=[(&#x27;num&#x27;, MinMaxScaler(),\n",
              "                                 [&#x27;top_left_r&#x27;, &#x27;top_left_g&#x27;, &#x27;top_left_infra1&#x27;,\n",
              "                                  &#x27;top_left_infra2&#x27;, &#x27;top_middle_r&#x27;,\n",
              "                                  &#x27;top_middle_g&#x27;, &#x27;top_middle_infra1&#x27;,\n",
              "                                  &#x27;top_middle_infra2&#x27;, &#x27;top_right_r&#x27;,\n",
              "                                  &#x27;top_right_g&#x27;, &#x27;top_right_infra1&#x27;,\n",
              "                                  &#x27;top_right_infra2&#x27;, &#x27;middle_left_r&#x27;,\n",
              "                                  &#x27;middle_left_g&#x27;, &#x27;middle_left_infra1&#x27;,\n",
              "                                  &#x27;middle_left_infra2&#x27;, &#x27;central_pixel_r&#x27;,\n",
              "                                  &#x27;central_pixel_g&#x27;, &#x27;central_pixel_infra1&#x27;,\n",
              "                                  &#x27;central_pixel_infra2&#x27;, &#x27;middle_right_r&#x27;,\n",
              "                                  &#x27;middle_right_g&#x27;, &#x27;middle_right_infra1&#x27;,\n",
              "                                  &#x27;middle_right_infra2&#x27;, &#x27;bottom_left_r&#x27;,\n",
              "                                  &#x27;bottom_left_g&#x27;, &#x27;bottom_left_infra1&#x27;,\n",
              "                                  &#x27;bottom_left_infra2&#x27;, &#x27;bottom_middle_r&#x27;,\n",
              "                                  &#x27;bottom_middle_g&#x27;, ...])])</pre></div></div></div><div class=\"sk-parallel\"><div class=\"sk-parallel-item\"><div class=\"sk-item\"><div class=\"sk-label-container\"><div class=\"sk-label sk-toggleable\"><input class=\"sk-toggleable__control sk-hidden--visually\" id=\"d24f9440-ed5b-416d-a9b9-7b73b9e69ee5\" type=\"checkbox\" ><label for=\"d24f9440-ed5b-416d-a9b9-7b73b9e69ee5\" class=\"sk-toggleable__label sk-toggleable__label-arrow\">num</label><div class=\"sk-toggleable__content\"><pre>[&#x27;top_left_r&#x27;, &#x27;top_left_g&#x27;, &#x27;top_left_infra1&#x27;, &#x27;top_left_infra2&#x27;, &#x27;top_middle_r&#x27;, &#x27;top_middle_g&#x27;, &#x27;top_middle_infra1&#x27;, &#x27;top_middle_infra2&#x27;, &#x27;top_right_r&#x27;, &#x27;top_right_g&#x27;, &#x27;top_right_infra1&#x27;, &#x27;top_right_infra2&#x27;, &#x27;middle_left_r&#x27;, &#x27;middle_left_g&#x27;, &#x27;middle_left_infra1&#x27;, &#x27;middle_left_infra2&#x27;, &#x27;central_pixel_r&#x27;, &#x27;central_pixel_g&#x27;, &#x27;central_pixel_infra1&#x27;, &#x27;central_pixel_infra2&#x27;, &#x27;middle_right_r&#x27;, &#x27;middle_right_g&#x27;, &#x27;middle_right_infra1&#x27;, &#x27;middle_right_infra2&#x27;, &#x27;bottom_left_r&#x27;, &#x27;bottom_left_g&#x27;, &#x27;bottom_left_infra1&#x27;, &#x27;bottom_left_infra2&#x27;, &#x27;bottom_middle_r&#x27;, &#x27;bottom_middle_g&#x27;, &#x27;bottom_middle_infra1&#x27;, &#x27;bottom_middle_infra2&#x27;, &#x27;bottom_right_r&#x27;, &#x27;bottom_right_g&#x27;, &#x27;bottom_right_infra1&#x27;, &#x27;bottom_right_infra2&#x27;]</pre></div></div></div><div class=\"sk-serial\"><div class=\"sk-item\"><div class=\"sk-estimator sk-toggleable\"><input class=\"sk-toggleable__control sk-hidden--visually\" id=\"c9998aa5-834e-4551-a465-1ebb99ba5120\" type=\"checkbox\" ><label for=\"c9998aa5-834e-4551-a465-1ebb99ba5120\" class=\"sk-toggleable__label sk-toggleable__label-arrow\">MinMaxScaler</label><div class=\"sk-toggleable__content\"><pre>MinMaxScaler()</pre></div></div></div></div></div></div></div></div><div class=\"sk-item sk-dashed-wrapped\"><div class=\"sk-label-container\"><div class=\"sk-label sk-toggleable\"><input class=\"sk-toggleable__control sk-hidden--visually\" id=\"b85e4afa-1df5-405e-87de-2ff49fcf6333\" type=\"checkbox\" ><label for=\"b85e4afa-1df5-405e-87de-2ff49fcf6333\" class=\"sk-toggleable__label sk-toggleable__label-arrow\">voting_ensemble: VotingClassifier</label><div class=\"sk-toggleable__content\"><pre>VotingClassifier(estimators=[(&#x27;knn&#x27;, KNeighborsClassifier(n_neighbors=3)),\n",
              "                             (&#x27;lr&#x27;, LogisticRegression(max_iter=100000)),\n",
              "                             (&#x27;svc&#x27;, SVC())])</pre></div></div></div><div class=\"sk-parallel\"><div class=\"sk-parallel-item\"><div class=\"sk-item\"><div class=\"sk-label-container\"><div class=\"sk-label sk-toggleable\"><label>knn</label></div></div><div class=\"sk-serial\"><div class=\"sk-item\"><div class=\"sk-estimator sk-toggleable\"><input class=\"sk-toggleable__control sk-hidden--visually\" id=\"704116a4-5942-4823-9019-40fd7b3bcdce\" type=\"checkbox\" ><label for=\"704116a4-5942-4823-9019-40fd7b3bcdce\" class=\"sk-toggleable__label sk-toggleable__label-arrow\">KNeighborsClassifier</label><div class=\"sk-toggleable__content\"><pre>KNeighborsClassifier(n_neighbors=3)</pre></div></div></div></div></div></div><div class=\"sk-parallel-item\"><div class=\"sk-item\"><div class=\"sk-label-container\"><div class=\"sk-label sk-toggleable\"><label>lr</label></div></div><div class=\"sk-serial\"><div class=\"sk-item\"><div class=\"sk-estimator sk-toggleable\"><input class=\"sk-toggleable__control sk-hidden--visually\" id=\"3eec7f6e-8bca-41d5-a210-cf82229eb0a9\" type=\"checkbox\" ><label for=\"3eec7f6e-8bca-41d5-a210-cf82229eb0a9\" class=\"sk-toggleable__label sk-toggleable__label-arrow\">LogisticRegression</label><div class=\"sk-toggleable__content\"><pre>LogisticRegression(max_iter=100000)</pre></div></div></div></div></div></div><div class=\"sk-parallel-item\"><div class=\"sk-item\"><div class=\"sk-label-container\"><div class=\"sk-label sk-toggleable\"><label>svc</label></div></div><div class=\"sk-serial\"><div class=\"sk-item\"><div class=\"sk-estimator sk-toggleable\"><input class=\"sk-toggleable__control sk-hidden--visually\" id=\"89811adc-b602-465b-a653-032be4761047\" type=\"checkbox\" ><label for=\"89811adc-b602-465b-a653-032be4761047\" class=\"sk-toggleable__label sk-toggleable__label-arrow\">SVC</label><div class=\"sk-toggleable__content\"><pre>SVC()</pre></div></div></div></div></div></div></div></div></div></div></div></div>"
            ]
          },
          "metadata": {},
          "execution_count": 27
        }
      ]
    },
    {
      "cell_type": "markdown",
      "source": [
        "##Evaluating the Model"
      ],
      "metadata": {
        "id": "rV4f2IOB9xVV"
      }
    },
    {
      "cell_type": "code",
      "source": [
        "y_pred = pipeline.predict(X_test)"
      ],
      "metadata": {
        "id": "1UjGqFcP9yBd"
      },
      "execution_count": 28,
      "outputs": []
    },
    {
      "cell_type": "code",
      "source": [
        "print(classification_report(y_test, y_pred))"
      ],
      "metadata": {
        "colab": {
          "base_uri": "https://localhost:8080/"
        },
        "id": "l7tM5SHa-Cjp",
        "outputId": "ef09912a-bec6-4b3f-eb41-2fde998a7272"
      },
      "execution_count": 29,
      "outputs": [
        {
          "output_type": "stream",
          "name": "stdout",
          "text": [
            "              precision    recall  f1-score   support\n",
            "\n",
            "           1       0.98      1.00      0.99       461\n",
            "           2       0.97      0.97      0.97       224\n",
            "           3       0.87      0.97      0.91       397\n",
            "           4       0.71      0.55      0.62       211\n",
            "           5       0.91      0.86      0.89       237\n",
            "           7       0.84      0.86      0.85       470\n",
            "\n",
            "    accuracy                           0.89      2000\n",
            "   macro avg       0.88      0.87      0.87      2000\n",
            "weighted avg       0.89      0.89      0.89      2000\n",
            "\n"
          ]
        }
      ]
    },
    {
      "cell_type": "code",
      "source": [
        "cm = confusion_matrix(y_test, y_pred)\n",
        "disp = ConfusionMatrixDisplay(confusion_matrix=cm)\n",
        "\n",
        "fig, ax = plt.subplots(figsize=(10,10))\n",
        "disp.plot(ax=ax, cmap='YlOrRd')"
      ],
      "metadata": {
        "colab": {
          "base_uri": "https://localhost:8080/",
          "height": 597
        },
        "id": "dT60YZ9r-Phk",
        "outputId": "f9d12a0f-2c9b-4d5e-f9a6-844b521edda4"
      },
      "execution_count": 30,
      "outputs": [
        {
          "output_type": "execute_result",
          "data": {
            "text/plain": [
              "<sklearn.metrics._plot.confusion_matrix.ConfusionMatrixDisplay at 0x7f9b587426d0>"
            ]
          },
          "metadata": {},
          "execution_count": 30
        },
        {
          "output_type": "display_data",
          "data": {
            "text/plain": [
              "<Figure size 720x720 with 2 Axes>"
            ],
            "image/png": "[encoded data removed]"
          },
          "metadata": {
            "needs_background": "light"
          }
        }
      ]
    },
    {
      "cell_type": "markdown",
      "source": [
        "##Conclusion\n",
        "This model is equally as good as the previous model, we’ve come to the same conclusion that the model does poorly for class 4 due to the model having only a few instances to train on. When it comes to the other classes, the model does a fairly good at predicting their instances."
      ],
      "metadata": {
        "id": "rBTBGia9-V9D"
      }
    },
    {
      "cell_type": "markdown",
      "source": [
        "##**Problem 3**"
      ],
      "metadata": {
        "id": "MUUi4I5vCC97"
      }
    },
    {
      "cell_type": "markdown",
      "source": [
        "##Acquire Data"
      ],
      "metadata": {
        "id": "IIy2vzAhCGlY"
      }
    },
    {
      "cell_type": "code",
      "source": [
        "df = pd.read_csv('/content/gdrive/MyDrive/CS430/Module3/banknote_authentication.csv')"
      ],
      "metadata": {
        "id": "QyxGuLtBCRtM"
      },
      "execution_count": 36,
      "outputs": []
    },
    {
      "cell_type": "code",
      "source": [
        "df.head()"
      ],
      "metadata": {
        "colab": {
          "base_uri": "https://localhost:8080/",
          "height": 206
        },
        "id": "eygMVZj4Fmor",
        "outputId": "8820ffb7-0fc9-4b0c-d550-677151438f20"
      },
      "execution_count": 37,
      "outputs": [
        {
          "output_type": "execute_result",
          "data": {
            "text/plain": [
              "   variance  skewness  curtosis  entropy  forgery\n",
              "0   3.62160    8.6661   -2.8073 -0.44699        0\n",
              "1   4.54590    8.1674   -2.4586 -1.46210        0\n",
              "2   3.86600   -2.6383    1.9242  0.10645        0\n",
              "3   3.45660    9.5228   -4.0112 -3.59440        0\n",
              "4   0.32924   -4.4552    4.5718 -0.98880        0"
            ],
            "text/html": [
              "\n",
              "  <div id=\"df-bfb328cc-53e4-4849-9736-04644c5984d2\">\n",
              "    <div class=\"colab-df-container\">\n",
              "      <div>\n",
              "<style scoped>\n",
              "    .dataframe tbody tr th:only-of-type {\n",
              "        vertical-align: middle;\n",
              "    }\n",
              "\n",
              "    .dataframe tbody tr th {\n",
              "        vertical-align: top;\n",
              "    }\n",
              "\n",
              "    .dataframe thead th {\n",
              "        text-align: right;\n",
              "    }\n",
              "</style>\n",
              "<table border=\"1\" class=\"dataframe\">\n",
              "  <thead>\n",
              "    <tr style=\"text-align: right;\">\n",
              "      <th></th>\n",
              "      <th>variance</th>\n",
              "      <th>skewness</th>\n",
              "      <th>curtosis</th>\n",
              "      <th>entropy</th>\n",
              "      <th>forgery</th>\n",
              "    </tr>\n",
              "  </thead>\n",
              "  <tbody>\n",
              "    <tr>\n",
              "      <th>0</th>\n",
              "      <td>3.62160</td>\n",
              "      <td>8.6661</td>\n",
              "      <td>-2.8073</td>\n",
              "      <td>-0.44699</td>\n",
              "      <td>0</td>\n",
              "    </tr>\n",
              "    <tr>\n",
              "      <th>1</th>\n",
              "      <td>4.54590</td>\n",
              "      <td>8.1674</td>\n",
              "      <td>-2.4586</td>\n",
              "      <td>-1.46210</td>\n",
              "      <td>0</td>\n",
              "    </tr>\n",
              "    <tr>\n",
              "      <th>2</th>\n",
              "      <td>3.86600</td>\n",
              "      <td>-2.6383</td>\n",
              "      <td>1.9242</td>\n",
              "      <td>0.10645</td>\n",
              "      <td>0</td>\n",
              "    </tr>\n",
              "    <tr>\n",
              "      <th>3</th>\n",
              "      <td>3.45660</td>\n",
              "      <td>9.5228</td>\n",
              "      <td>-4.0112</td>\n",
              "      <td>-3.59440</td>\n",
              "      <td>0</td>\n",
              "    </tr>\n",
              "    <tr>\n",
              "      <th>4</th>\n",
              "      <td>0.32924</td>\n",
              "      <td>-4.4552</td>\n",
              "      <td>4.5718</td>\n",
              "      <td>-0.98880</td>\n",
              "      <td>0</td>\n",
              "    </tr>\n",
              "  </tbody>\n",
              "</table>\n",
              "</div>\n",
              "      <button class=\"colab-df-convert\" onclick=\"convertToInteractive('df-bfb328cc-53e4-4849-9736-04644c5984d2')\"\n",
              "              title=\"Convert this dataframe to an interactive table.\"\n",
              "              style=\"display:none;\">\n",
              "        \n",
              "  <svg xmlns=\"http://www.w3.org/2000/svg\" height=\"24px\"viewBox=\"0 0 24 24\"\n",
              "       width=\"24px\">\n",
              "    <path d=\"M0 0h24v24H0V0z\" fill=\"none\"/>\n",
              "    <path d=\"M18.56 5.44l.94 2.06.94-2.06 2.06-.94-2.06-.94-.94-2.06-.94 2.06-2.06.94zm-11 1L8.5 8.5l.94-2.06 2.06-.94-2.06-.94L8.5 2.5l-.94 2.06-2.06.94zm10 10l.94 2.06.94-2.06 2.06-.94-2.06-.94-.94-2.06-.94 2.06-2.06.94z\"/><path d=\"M17.41 7.96l-1.37-1.37c-.4-.4-.92-.59-1.43-.59-.52 0-1.04.2-1.43.59L10.3 9.45l-7.72 7.72c-.78.78-.78 2.05 0 2.83L4 21.41c.39.39.9.59 1.41.59.51 0 1.02-.2 1.41-.59l7.78-7.78 2.81-2.81c.8-.78.8-2.07 0-2.86zM5.41 20L4 18.59l7.72-7.72 1.47 1.35L5.41 20z\"/>\n",
              "  </svg>\n",
              "      </button>\n",
              "      \n",
              "  <style>\n",
              "    .colab-df-container {\n",
              "      display:flex;\n",
              "      flex-wrap:wrap;\n",
              "      gap: 12px;\n",
              "    }\n",
              "\n",
              "    .colab-df-convert {\n",
              "      background-color: #E8F0FE;\n",
              "      border: none;\n",
              "      border-radius: 50%;\n",
              "      cursor: pointer;\n",
              "      display: none;\n",
              "      fill: #1967D2;\n",
              "      height: 32px;\n",
              "      padding: 0 0 0 0;\n",
              "      width: 32px;\n",
              "    }\n",
              "\n",
              "    .colab-df-convert:hover {\n",
              "      background-color: #E2EBFA;\n",
              "      box-shadow: 0px 1px 2px rgba(60, 64, 67, 0.3), 0px 1px 3px 1px rgba(60, 64, 67, 0.15);\n",
              "      fill: #174EA6;\n",
              "    }\n",
              "\n",
              "    [theme=dark] .colab-df-convert {\n",
              "      background-color: #3B4455;\n",
              "      fill: #D2E3FC;\n",
              "    }\n",
              "\n",
              "    [theme=dark] .colab-df-convert:hover {\n",
              "      background-color: #434B5C;\n",
              "      box-shadow: 0px 1px 3px 1px rgba(0, 0, 0, 0.15);\n",
              "      filter: drop-shadow(0px 1px 2px rgba(0, 0, 0, 0.3));\n",
              "      fill: #FFFFFF;\n",
              "    }\n",
              "  </style>\n",
              "\n",
              "      <script>\n",
              "        const buttonEl =\n",
              "          document.querySelector('#df-bfb328cc-53e4-4849-9736-04644c5984d2 button.colab-df-convert');\n",
              "        buttonEl.style.display =\n",
              "          google.colab.kernel.accessAllowed ? 'block' : 'none';\n",
              "\n",
              "        async function convertToInteractive(key) {\n",
              "          const element = document.querySelector('#df-bfb328cc-53e4-4849-9736-04644c5984d2');\n",
              "          const dataTable =\n",
              "            await google.colab.kernel.invokeFunction('convertToInteractive',\n",
              "                                                     [key], {});\n",
              "          if (!dataTable) return;\n",
              "\n",
              "          const docLinkHtml = 'Like what you see? Visit the ' +\n",
              "            '<a target=\"_blank\" href=https://colab.research.google.com/notebooks/data_table.ipynb>data table notebook</a>'\n",
              "            + ' to learn more about interactive tables.';\n",
              "          element.innerHTML = '';\n",
              "          dataTable['output_type'] = 'display_data';\n",
              "          await google.colab.output.renderOutput(dataTable, element);\n",
              "          const docLink = document.createElement('div');\n",
              "          docLink.innerHTML = docLinkHtml;\n",
              "          element.appendChild(docLink);\n",
              "        }\n",
              "      </script>\n",
              "    </div>\n",
              "  </div>\n",
              "  "
            ]
          },
          "metadata": {},
          "execution_count": 37
        }
      ]
    },
    {
      "cell_type": "markdown",
      "source": [
        "##Splitting Data into Train/Test"
      ],
      "metadata": {
        "id": "7j1wUW0bIHdv"
      }
    },
    {
      "cell_type": "code",
      "source": [
        "input_columns = list(df.columns[:-1])\n",
        "\n",
        "X = df[input_columns]\n",
        "y = df['forgery']"
      ],
      "metadata": {
        "id": "Uya1mObZIM3B"
      },
      "execution_count": 50,
      "outputs": []
    },
    {
      "cell_type": "code",
      "source": [
        "X_train, X_test, y_train, y_test = train_test_split(X, y, test_size=.2, random_state=32)"
      ],
      "metadata": {
        "id": "rcqP3QfmI40g"
      },
      "execution_count": 51,
      "outputs": []
    },
    {
      "cell_type": "markdown",
      "source": [
        "##Building the Pipeline"
      ],
      "metadata": {
        "id": "r1xbGhPOG-87"
      }
    },
    {
      "cell_type": "code",
      "source": [
        "num_attributes = input_columns\n",
        "\n",
        "col_transform = ColumnTransformer([\n",
        "                                  ('num', MinMaxScaler(), num_attributes),\n",
        "                            ])"
      ],
      "metadata": {
        "id": "8Zajj_0zGws1"
      },
      "execution_count": 48,
      "outputs": []
    },
    {
      "cell_type": "code",
      "source": [
        "len(df)"
      ],
      "metadata": {
        "colab": {
          "base_uri": "https://localhost:8080/"
        },
        "id": "iuDbjhVbHi50",
        "outputId": "c53d6b1e-441b-432b-df66-dd21ef54d61c"
      },
      "execution_count": 44,
      "outputs": [
        {
          "output_type": "execute_result",
          "data": {
            "text/plain": [
              "1372"
            ]
          },
          "metadata": {},
          "execution_count": 44
        }
      ]
    },
    {
      "cell_type": "code",
      "source": [
        "pipeline = Pipeline([\n",
        "                    ('transfomer', col_transform),\n",
        "                    ('rf', RandomForestClassifier(n_estimators=1000, max_samples=500, bootstrap=True))\n",
        "    ])"
      ],
      "metadata": {
        "id": "-fLEGQM4HTtx"
      },
      "execution_count": 45,
      "outputs": []
    },
    {
      "cell_type": "markdown",
      "source": [
        "##Executing the Model"
      ],
      "metadata": {
        "id": "3Vv1Lm8FHx3B"
      }
    },
    {
      "cell_type": "code",
      "source": [
        "pipeline.fit(X_train, np.ravel(y_train))"
      ],
      "metadata": {
        "colab": {
          "base_uri": "https://localhost:8080/",
          "height": 192
        },
        "id": "_m2VAbk6HwRc",
        "outputId": "2ebf3276-5fae-4b83-9c11-bdd1791ed434"
      },
      "execution_count": 52,
      "outputs": [
        {
          "output_type": "execute_result",
          "data": {
            "text/plain": [
              "Pipeline(steps=[('transfomer',\n",
              "                 ColumnTransformer(transformers=[('num', MinMaxScaler(),\n",
              "                                                  ['variance', 'skewness',\n",
              "                                                   'curtosis', 'entropy'])])),\n",
              "                ('rf',\n",
              "                 RandomForestClassifier(max_samples=500, n_estimators=1000))])"
            ],
            "text/html": [
              "<style>#sk-e6c76924-05d0-49c0-8076-ff7c1187e0ee {color: black;background-color: white;}#sk-e6c76924-05d0-49c0-8076-ff7c1187e0ee pre{padding: 0;}#sk-e6c76924-05d0-49c0-8076-ff7c1187e0ee div.sk-toggleable {background-color: white;}#sk-e6c76924-05d0-49c0-8076-ff7c1187e0ee label.sk-toggleable__label {cursor: pointer;display: block;width: 100%;margin-bottom: 0;padding: 0.3em;box-sizing: border-box;text-align: center;}#sk-e6c76924-05d0-49c0-8076-ff7c1187e0ee label.sk-toggleable__label-arrow:before {content: \"▸\";float: left;margin-right: 0.25em;color: #696969;}#sk-e6c76924-05d0-49c0-8076-ff7c1187e0ee label.sk-toggleable__label-arrow:hover:before {color: black;}#sk-e6c76924-05d0-49c0-8076-ff7c1187e0ee div.sk-estimator:hover label.sk-toggleable__label-arrow:before {color: black;}#sk-e6c76924-05d0-49c0-8076-ff7c1187e0ee div.sk-toggleable__content {max-height: 0;max-width: 0;overflow: hidden;text-align: left;background-color: #f0f8ff;}#sk-e6c76924-05d0-49c0-8076-ff7c1187e0ee div.sk-toggleable__content pre {margin: 0.2em;color: black;border-radius: 0.25em;background-color: #f0f8ff;}#sk-e6c76924-05d0-49c0-8076-ff7c1187e0ee input.sk-toggleable__control:checked~div.sk-toggleable__content {max-height: 200px;max-width: 100%;overflow: auto;}#sk-e6c76924-05d0-49c0-8076-ff7c1187e0ee input.sk-toggleable__control:checked~label.sk-toggleable__label-arrow:before {content: \"▾\";}#sk-e6c76924-05d0-49c0-8076-ff7c1187e0ee div.sk-estimator input.sk-toggleable__control:checked~label.sk-toggleable__label {background-color: #d4ebff;}#sk-e6c76924-05d0-49c0-8076-ff7c1187e0ee div.sk-label input.sk-toggleable__control:checked~label.sk-toggleable__label {background-color: #d4ebff;}#sk-e6c76924-05d0-49c0-8076-ff7c1187e0ee input.sk-hidden--visually {border: 0;clip: rect(1px 1px 1px 1px);clip: rect(1px, 1px, 1px, 1px);height: 1px;margin: -1px;overflow: hidden;padding: 0;position: absolute;width: 1px;}#sk-e6c76924-05d0-49c0-8076-ff7c1187e0ee div.sk-estimator {font-family: monospace;background-color: #f0f8ff;border: 1px dotted black;border-radius: 0.25em;box-sizing: border-box;margin-bottom: 0.5em;}#sk-e6c76924-05d0-49c0-8076-ff7c1187e0ee div.sk-estimator:hover {background-color: #d4ebff;}#sk-e6c76924-05d0-49c0-8076-ff7c1187e0ee div.sk-parallel-item::after {content: \"\";width: 100%;border-bottom: 1px solid gray;flex-grow: 1;}#sk-e6c76924-05d0-49c0-8076-ff7c1187e0ee div.sk-label:hover label.sk-toggleable__label {background-color: #d4ebff;}#sk-e6c76924-05d0-49c0-8076-ff7c1187e0ee div.sk-serial::before {content: \"\";position: absolute;border-left: 1px solid gray;box-sizing: border-box;top: 2em;bottom: 0;left: 50%;}#sk-e6c76924-05d0-49c0-8076-ff7c1187e0ee div.sk-serial {display: flex;flex-direction: column;align-items: center;background-color: white;padding-right: 0.2em;padding-left: 0.2em;}#sk-e6c76924-05d0-49c0-8076-ff7c1187e0ee div.sk-item {z-index: 1;}#sk-e6c76924-05d0-49c0-8076-ff7c1187e0ee div.sk-parallel {display: flex;align-items: stretch;justify-content: center;background-color: white;}#sk-e6c76924-05d0-49c0-8076-ff7c1187e0ee div.sk-parallel::before {content: \"\";position: absolute;border-left: 1px solid gray;box-sizing: border-box;top: 2em;bottom: 0;left: 50%;}#sk-e6c76924-05d0-49c0-8076-ff7c1187e0ee div.sk-parallel-item {display: flex;flex-direction: column;position: relative;background-color: white;}#sk-e6c76924-05d0-49c0-8076-ff7c1187e0ee div.sk-parallel-item:first-child::after {align-self: flex-end;width: 50%;}#sk-e6c76924-05d0-49c0-8076-ff7c1187e0ee div.sk-parallel-item:last-child::after {align-self: flex-start;width: 50%;}#sk-e6c76924-05d0-49c0-8076-ff7c1187e0ee div.sk-parallel-item:only-child::after {width: 0;}#sk-e6c76924-05d0-49c0-8076-ff7c1187e0ee div.sk-dashed-wrapped {border: 1px dashed gray;margin: 0 0.4em 0.5em 0.4em;box-sizing: border-box;padding-bottom: 0.4em;background-color: white;position: relative;}#sk-e6c76924-05d0-49c0-8076-ff7c1187e0ee div.sk-label label {font-family: monospace;font-weight: bold;background-color: white;display: inline-block;line-height: 1.2em;}#sk-e6c76924-05d0-49c0-8076-ff7c1187e0ee div.sk-label-container {position: relative;z-index: 2;text-align: center;}#sk-e6c76924-05d0-49c0-8076-ff7c1187e0ee div.sk-container {/* jupyter's `normalize.less` sets `[hidden] { display: none; }` but bootstrap.min.css set `[hidden] { display: none !important; }` so we also need the `!important` here to be able to override the default hidden behavior on the sphinx rendered scikit-learn.org. See: https://github.com/scikit-learn/scikit-learn/issues/21755 */display: inline-block !important;position: relative;}#sk-e6c76924-05d0-49c0-8076-ff7c1187e0ee div.sk-text-repr-fallback {display: none;}</style><div id=\"sk-e6c76924-05d0-49c0-8076-ff7c1187e0ee\" class=\"sk-top-container\"><div class=\"sk-text-repr-fallback\"><pre>Pipeline(steps=[(&#x27;transfomer&#x27;,\n",
              "                 ColumnTransformer(transformers=[(&#x27;num&#x27;, MinMaxScaler(),\n",
              "                                                  [&#x27;variance&#x27;, &#x27;skewness&#x27;,\n",
              "                                                   &#x27;curtosis&#x27;, &#x27;entropy&#x27;])])),\n",
              "                (&#x27;rf&#x27;,\n",
              "                 RandomForestClassifier(max_samples=500, n_estimators=1000))])</pre><b>Please rerun this cell to show the HTML repr or trust the notebook.</b></div><div class=\"sk-container\" hidden><div class=\"sk-item sk-dashed-wrapped\"><div class=\"sk-label-container\"><div class=\"sk-label sk-toggleable\"><input class=\"sk-toggleable__control sk-hidden--visually\" id=\"7b6ba5a4-2715-4f7f-8c60-e6395a69fa86\" type=\"checkbox\" ><label for=\"7b6ba5a4-2715-4f7f-8c60-e6395a69fa86\" class=\"sk-toggleable__label sk-toggleable__label-arrow\">Pipeline</label><div class=\"sk-toggleable__content\"><pre>Pipeline(steps=[(&#x27;transfomer&#x27;,\n",
              "                 ColumnTransformer(transformers=[(&#x27;num&#x27;, MinMaxScaler(),\n",
              "                                                  [&#x27;variance&#x27;, &#x27;skewness&#x27;,\n",
              "                                                   &#x27;curtosis&#x27;, &#x27;entropy&#x27;])])),\n",
              "                (&#x27;rf&#x27;,\n",
              "                 RandomForestClassifier(max_samples=500, n_estimators=1000))])</pre></div></div></div><div class=\"sk-serial\"><div class=\"sk-item sk-dashed-wrapped\"><div class=\"sk-label-container\"><div class=\"sk-label sk-toggleable\"><input class=\"sk-toggleable__control sk-hidden--visually\" id=\"69b976a7-0080-423e-b7e6-e7e4425aa150\" type=\"checkbox\" ><label for=\"69b976a7-0080-423e-b7e6-e7e4425aa150\" class=\"sk-toggleable__label sk-toggleable__label-arrow\">transfomer: ColumnTransformer</label><div class=\"sk-toggleable__content\"><pre>ColumnTransformer(transformers=[(&#x27;num&#x27;, MinMaxScaler(),\n",
              "                                 [&#x27;variance&#x27;, &#x27;skewness&#x27;, &#x27;curtosis&#x27;,\n",
              "                                  &#x27;entropy&#x27;])])</pre></div></div></div><div class=\"sk-parallel\"><div class=\"sk-parallel-item\"><div class=\"sk-item\"><div class=\"sk-label-container\"><div class=\"sk-label sk-toggleable\"><input class=\"sk-toggleable__control sk-hidden--visually\" id=\"7c0d3504-3eba-41e3-9ac0-146d856f64df\" type=\"checkbox\" ><label for=\"7c0d3504-3eba-41e3-9ac0-146d856f64df\" class=\"sk-toggleable__label sk-toggleable__label-arrow\">num</label><div class=\"sk-toggleable__content\"><pre>[&#x27;variance&#x27;, &#x27;skewness&#x27;, &#x27;curtosis&#x27;, &#x27;entropy&#x27;]</pre></div></div></div><div class=\"sk-serial\"><div class=\"sk-item\"><div class=\"sk-estimator sk-toggleable\"><input class=\"sk-toggleable__control sk-hidden--visually\" id=\"e6ee5d30-6b28-4d52-bd3f-b04d132464cf\" type=\"checkbox\" ><label for=\"e6ee5d30-6b28-4d52-bd3f-b04d132464cf\" class=\"sk-toggleable__label sk-toggleable__label-arrow\">MinMaxScaler</label><div class=\"sk-toggleable__content\"><pre>MinMaxScaler()</pre></div></div></div></div></div></div></div></div><div class=\"sk-item\"><div class=\"sk-estimator sk-toggleable\"><input class=\"sk-toggleable__control sk-hidden--visually\" id=\"b8f9e2b7-4597-4375-b80d-1079b0856bcc\" type=\"checkbox\" ><label for=\"b8f9e2b7-4597-4375-b80d-1079b0856bcc\" class=\"sk-toggleable__label sk-toggleable__label-arrow\">RandomForestClassifier</label><div class=\"sk-toggleable__content\"><pre>RandomForestClassifier(max_samples=500, n_estimators=1000)</pre></div></div></div></div></div></div></div>"
            ]
          },
          "metadata": {},
          "execution_count": 52
        }
      ]
    },
    {
      "cell_type": "markdown",
      "source": [
        "##Evaluating the Model"
      ],
      "metadata": {
        "id": "CCpx23JFLusL"
      }
    },
    {
      "cell_type": "code",
      "source": [
        "y_pred = pipeline.predict(X_test)"
      ],
      "metadata": {
        "id": "UDcCm508LvR6"
      },
      "execution_count": 53,
      "outputs": []
    },
    {
      "cell_type": "code",
      "source": [
        "print(classification_report(y_test, y_pred))"
      ],
      "metadata": {
        "colab": {
          "base_uri": "https://localhost:8080/"
        },
        "id": "of4T8WkcLznV",
        "outputId": "f83f3f9d-7459-4e1b-d897-352eb2ea8a6f"
      },
      "execution_count": 54,
      "outputs": [
        {
          "output_type": "stream",
          "name": "stdout",
          "text": [
            "              precision    recall  f1-score   support\n",
            "\n",
            "           0       1.00      0.99      0.99       156\n",
            "           1       0.98      1.00      0.99       119\n",
            "\n",
            "    accuracy                           0.99       275\n",
            "   macro avg       0.99      0.99      0.99       275\n",
            "weighted avg       0.99      0.99      0.99       275\n",
            "\n"
          ]
        }
      ]
    },
    {
      "cell_type": "code",
      "source": [
        "cm = confusion_matrix(y_test, y_pred)\n",
        "disp = ConfusionMatrixDisplay(confusion_matrix=cm)\n",
        "\n",
        "fig, ax = plt.subplots(figsize=(10,10))\n",
        "disp.plot(ax=ax, cmap='YlOrRd')"
      ],
      "metadata": {
        "colab": {
          "base_uri": "https://localhost:8080/",
          "height": 597
        },
        "id": "q5CKF8CLMBDl",
        "outputId": "68a9fa53-0f52-4d93-909a-38a9d3fa84be"
      },
      "execution_count": 55,
      "outputs": [
        {
          "output_type": "execute_result",
          "data": {
            "text/plain": [
              "<sklearn.metrics._plot.confusion_matrix.ConfusionMatrixDisplay at 0x7f9b55ada610>"
            ]
          },
          "metadata": {},
          "execution_count": 55
        },
        {
          "output_type": "display_data",
          "data": {
            "text/plain": [
              "<Figure size 720x720 with 2 Axes>"
            ],
            "image/png": "[encoded data removed]"
          },
          "metadata": {
            "needs_background": "light"
          }
        }
      ]
    },
    {
      "cell_type": "markdown",
      "source": [
        "##Conclusion\n",
        "This model does an excellent job at predicting authentic banknotes from forgeries, it has a high precision when it comes to both the positive and negative class and the recalls for the negative class is at 0.99 while the recall for the positive class is at good as it gets with a score of 1.00. The model only mislabeled two instances, which is a good sign that it is an excellent predictor."
      ],
      "metadata": {
        "id": "UMnABFRhNCMg"
      }
    }
  ]
}